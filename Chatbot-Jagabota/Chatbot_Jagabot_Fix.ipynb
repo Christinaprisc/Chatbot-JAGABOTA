{
  "cells": [
    {
      "cell_type": "markdown",
      "metadata": {
        "id": "MYJYLn0FN2px"
      },
      "source": [
        "#Building a Chatbot with Pytorch"
      ]
    },
    {
      "cell_type": "markdown",
      "metadata": {
        "id": "IAzSeJGcQmHA"
      },
      "source": [
        "Sumber : [github](https://github.com/UsmanNiazi/Chatbot-with-Pytorch/blob/main/chatbot.ipynb)"
      ]
    },
    {
      "cell_type": "markdown",
      "metadata": {
        "id": "vMgFdIsaN65U"
      },
      "source": [
        "###Import Libray"
      ]
    },
    {
      "cell_type": "code",
      "execution_count": 1,
      "metadata": {
        "id": "GfbMsTQ7Nzez"
      },
      "outputs": [
        {
          "ename": "KeyboardInterrupt",
          "evalue": "",
          "output_type": "error",
          "traceback": [
            "\u001b[1;31m---------------------------------------------------------------------------\u001b[0m",
            "\u001b[1;31mKeyboardInterrupt\u001b[0m                         Traceback (most recent call last)",
            "\u001b[1;32m~\\AppData\\Local\\Temp\\ipykernel_6216\\4192598312.py\u001b[0m in \u001b[0;36m<module>\u001b[1;34m\u001b[0m\n\u001b[0;32m      2\u001b[0m \u001b[1;32mimport\u001b[0m \u001b[0mrandom\u001b[0m\u001b[1;33m\u001b[0m\u001b[1;33m\u001b[0m\u001b[0m\n\u001b[0;32m      3\u001b[0m \u001b[1;32mimport\u001b[0m \u001b[0mjson\u001b[0m\u001b[1;33m\u001b[0m\u001b[1;33m\u001b[0m\u001b[0m\n\u001b[1;32m----> 4\u001b[1;33m \u001b[1;32mimport\u001b[0m \u001b[0mnltk\u001b[0m\u001b[1;33m\u001b[0m\u001b[1;33m\u001b[0m\u001b[0m\n\u001b[0m\u001b[0;32m      5\u001b[0m \u001b[1;32mimport\u001b[0m \u001b[0mtorch\u001b[0m\u001b[1;33m\u001b[0m\u001b[1;33m\u001b[0m\u001b[0m\n\u001b[0;32m      6\u001b[0m \u001b[1;32mimport\u001b[0m \u001b[0mtorch\u001b[0m\u001b[1;33m.\u001b[0m\u001b[0mnn\u001b[0m \u001b[1;32mas\u001b[0m \u001b[0mnn\u001b[0m\u001b[1;33m\u001b[0m\u001b[1;33m\u001b[0m\u001b[0m\n",
            "\u001b[1;32m~\\AppData\\Roaming\\Python\\Python310\\site-packages\\nltk\\__init__.py\u001b[0m in \u001b[0;36m<module>\u001b[1;34m\u001b[0m\n\u001b[0;32m    144\u001b[0m \u001b[1;31m###########################################################\u001b[0m\u001b[1;33m\u001b[0m\u001b[1;33m\u001b[0m\u001b[0m\n\u001b[0;32m    145\u001b[0m \u001b[1;33m\u001b[0m\u001b[0m\n\u001b[1;32m--> 146\u001b[1;33m \u001b[1;32mfrom\u001b[0m \u001b[0mnltk\u001b[0m\u001b[1;33m.\u001b[0m\u001b[0mchunk\u001b[0m \u001b[1;32mimport\u001b[0m \u001b[1;33m*\u001b[0m\u001b[1;33m\u001b[0m\u001b[1;33m\u001b[0m\u001b[0m\n\u001b[0m\u001b[0;32m    147\u001b[0m \u001b[1;32mfrom\u001b[0m \u001b[0mnltk\u001b[0m\u001b[1;33m.\u001b[0m\u001b[0mclassify\u001b[0m \u001b[1;32mimport\u001b[0m \u001b[1;33m*\u001b[0m\u001b[1;33m\u001b[0m\u001b[1;33m\u001b[0m\u001b[0m\n\u001b[0;32m    148\u001b[0m \u001b[1;32mfrom\u001b[0m \u001b[0mnltk\u001b[0m\u001b[1;33m.\u001b[0m\u001b[0minference\u001b[0m \u001b[1;32mimport\u001b[0m \u001b[1;33m*\u001b[0m\u001b[1;33m\u001b[0m\u001b[1;33m\u001b[0m\u001b[0m\n",
            "\u001b[1;32m~\\AppData\\Roaming\\Python\\Python310\\site-packages\\nltk\\chunk\\__init__.py\u001b[0m in \u001b[0;36m<module>\u001b[1;34m\u001b[0m\n\u001b[0;32m    153\u001b[0m \"\"\"\n\u001b[0;32m    154\u001b[0m \u001b[1;33m\u001b[0m\u001b[0m\n\u001b[1;32m--> 155\u001b[1;33m \u001b[1;32mfrom\u001b[0m \u001b[0mnltk\u001b[0m\u001b[1;33m.\u001b[0m\u001b[0mchunk\u001b[0m\u001b[1;33m.\u001b[0m\u001b[0mapi\u001b[0m \u001b[1;32mimport\u001b[0m \u001b[0mChunkParserI\u001b[0m\u001b[1;33m\u001b[0m\u001b[1;33m\u001b[0m\u001b[0m\n\u001b[0m\u001b[0;32m    156\u001b[0m \u001b[1;32mfrom\u001b[0m \u001b[0mnltk\u001b[0m\u001b[1;33m.\u001b[0m\u001b[0mchunk\u001b[0m\u001b[1;33m.\u001b[0m\u001b[0mregexp\u001b[0m \u001b[1;32mimport\u001b[0m \u001b[0mRegexpChunkParser\u001b[0m\u001b[1;33m,\u001b[0m \u001b[0mRegexpParser\u001b[0m\u001b[1;33m\u001b[0m\u001b[1;33m\u001b[0m\u001b[0m\n\u001b[0;32m    157\u001b[0m from nltk.chunk.util import (\n",
            "\u001b[1;32m~\\AppData\\Roaming\\Python\\Python310\\site-packages\\nltk\\chunk\\api.py\u001b[0m in \u001b[0;36m<module>\u001b[1;34m\u001b[0m\n\u001b[0;32m     11\u001b[0m \u001b[1;31m##//////////////////////////////////////////////////////\u001b[0m\u001b[1;33m\u001b[0m\u001b[1;33m\u001b[0m\u001b[0m\n\u001b[0;32m     12\u001b[0m \u001b[1;33m\u001b[0m\u001b[0m\n\u001b[1;32m---> 13\u001b[1;33m \u001b[1;32mfrom\u001b[0m \u001b[0mnltk\u001b[0m\u001b[1;33m.\u001b[0m\u001b[0mchunk\u001b[0m\u001b[1;33m.\u001b[0m\u001b[0mutil\u001b[0m \u001b[1;32mimport\u001b[0m \u001b[0mChunkScore\u001b[0m\u001b[1;33m\u001b[0m\u001b[1;33m\u001b[0m\u001b[0m\n\u001b[0m\u001b[0;32m     14\u001b[0m \u001b[1;32mfrom\u001b[0m \u001b[0mnltk\u001b[0m\u001b[1;33m.\u001b[0m\u001b[0mparse\u001b[0m \u001b[1;32mimport\u001b[0m \u001b[0mParserI\u001b[0m\u001b[1;33m\u001b[0m\u001b[1;33m\u001b[0m\u001b[0m\n\u001b[0;32m     15\u001b[0m \u001b[1;33m\u001b[0m\u001b[0m\n",
            "\u001b[1;32m~\\AppData\\Roaming\\Python\\Python310\\site-packages\\nltk\\chunk\\util.py\u001b[0m in \u001b[0;36m<module>\u001b[1;34m\u001b[0m\n\u001b[0;32m     10\u001b[0m \u001b[1;33m\u001b[0m\u001b[0m\n\u001b[0;32m     11\u001b[0m \u001b[1;32mfrom\u001b[0m \u001b[0mnltk\u001b[0m\u001b[1;33m.\u001b[0m\u001b[0mmetrics\u001b[0m \u001b[1;32mimport\u001b[0m \u001b[0maccuracy\u001b[0m \u001b[1;32mas\u001b[0m \u001b[0m_accuracy\u001b[0m\u001b[1;33m\u001b[0m\u001b[1;33m\u001b[0m\u001b[0m\n\u001b[1;32m---> 12\u001b[1;33m \u001b[1;32mfrom\u001b[0m \u001b[0mnltk\u001b[0m\u001b[1;33m.\u001b[0m\u001b[0mtag\u001b[0m\u001b[1;33m.\u001b[0m\u001b[0mmapping\u001b[0m \u001b[1;32mimport\u001b[0m \u001b[0mmap_tag\u001b[0m\u001b[1;33m\u001b[0m\u001b[1;33m\u001b[0m\u001b[0m\n\u001b[0m\u001b[0;32m     13\u001b[0m \u001b[1;32mfrom\u001b[0m \u001b[0mnltk\u001b[0m\u001b[1;33m.\u001b[0m\u001b[0mtag\u001b[0m\u001b[1;33m.\u001b[0m\u001b[0mutil\u001b[0m \u001b[1;32mimport\u001b[0m \u001b[0mstr2tuple\u001b[0m\u001b[1;33m\u001b[0m\u001b[1;33m\u001b[0m\u001b[0m\n\u001b[0;32m     14\u001b[0m \u001b[1;32mfrom\u001b[0m \u001b[0mnltk\u001b[0m\u001b[1;33m.\u001b[0m\u001b[0mtree\u001b[0m \u001b[1;32mimport\u001b[0m \u001b[0mTree\u001b[0m\u001b[1;33m\u001b[0m\u001b[1;33m\u001b[0m\u001b[0m\n",
            "\u001b[1;32m~\\AppData\\Roaming\\Python\\Python310\\site-packages\\nltk\\tag\\__init__.py\u001b[0m in \u001b[0;36m<module>\u001b[1;34m\u001b[0m\n\u001b[0;32m     68\u001b[0m \u001b[1;32mfrom\u001b[0m \u001b[0mnltk\u001b[0m\u001b[1;33m.\u001b[0m\u001b[0mtag\u001b[0m\u001b[1;33m.\u001b[0m\u001b[0mapi\u001b[0m \u001b[1;32mimport\u001b[0m \u001b[0mTaggerI\u001b[0m\u001b[1;33m\u001b[0m\u001b[1;33m\u001b[0m\u001b[0m\n\u001b[0;32m     69\u001b[0m \u001b[1;32mfrom\u001b[0m \u001b[0mnltk\u001b[0m\u001b[1;33m.\u001b[0m\u001b[0mtag\u001b[0m\u001b[1;33m.\u001b[0m\u001b[0mutil\u001b[0m \u001b[1;32mimport\u001b[0m \u001b[0mstr2tuple\u001b[0m\u001b[1;33m,\u001b[0m \u001b[0mtuple2str\u001b[0m\u001b[1;33m,\u001b[0m \u001b[0muntag\u001b[0m\u001b[1;33m\u001b[0m\u001b[1;33m\u001b[0m\u001b[0m\n\u001b[1;32m---> 70\u001b[1;33m from nltk.tag.sequential import (\n\u001b[0m\u001b[0;32m     71\u001b[0m     \u001b[0mSequentialBackoffTagger\u001b[0m\u001b[1;33m,\u001b[0m\u001b[1;33m\u001b[0m\u001b[1;33m\u001b[0m\u001b[0m\n\u001b[0;32m     72\u001b[0m     \u001b[0mContextTagger\u001b[0m\u001b[1;33m,\u001b[0m\u001b[1;33m\u001b[0m\u001b[1;33m\u001b[0m\u001b[0m\n",
            "\u001b[1;32m~\\AppData\\Roaming\\Python\\Python310\\site-packages\\nltk\\tag\\sequential.py\u001b[0m in \u001b[0;36m<module>\u001b[1;34m\u001b[0m\n\u001b[0;32m     24\u001b[0m \u001b[1;33m\u001b[0m\u001b[0m\n\u001b[0;32m     25\u001b[0m \u001b[1;32mfrom\u001b[0m \u001b[0mnltk\u001b[0m \u001b[1;32mimport\u001b[0m \u001b[0mjsontags\u001b[0m\u001b[1;33m\u001b[0m\u001b[1;33m\u001b[0m\u001b[0m\n\u001b[1;32m---> 26\u001b[1;33m \u001b[1;32mfrom\u001b[0m \u001b[0mnltk\u001b[0m\u001b[1;33m.\u001b[0m\u001b[0mclassify\u001b[0m \u001b[1;32mimport\u001b[0m \u001b[0mNaiveBayesClassifier\u001b[0m\u001b[1;33m\u001b[0m\u001b[1;33m\u001b[0m\u001b[0m\n\u001b[0m\u001b[0;32m     27\u001b[0m \u001b[1;32mfrom\u001b[0m \u001b[0mnltk\u001b[0m\u001b[1;33m.\u001b[0m\u001b[0mprobability\u001b[0m \u001b[1;32mimport\u001b[0m \u001b[0mConditionalFreqDist\u001b[0m\u001b[1;33m\u001b[0m\u001b[1;33m\u001b[0m\u001b[0m\n\u001b[0;32m     28\u001b[0m \u001b[1;32mfrom\u001b[0m \u001b[0mnltk\u001b[0m\u001b[1;33m.\u001b[0m\u001b[0mtag\u001b[0m\u001b[1;33m.\u001b[0m\u001b[0mapi\u001b[0m \u001b[1;32mimport\u001b[0m \u001b[0mFeaturesetTaggerI\u001b[0m\u001b[1;33m,\u001b[0m \u001b[0mTaggerI\u001b[0m\u001b[1;33m\u001b[0m\u001b[1;33m\u001b[0m\u001b[0m\n",
            "\u001b[1;32m~\\AppData\\Roaming\\Python\\Python310\\site-packages\\nltk\\classify\\__init__.py\u001b[0m in \u001b[0;36m<module>\u001b[1;34m\u001b[0m\n\u001b[0;32m     95\u001b[0m \u001b[1;32mfrom\u001b[0m \u001b[0mnltk\u001b[0m\u001b[1;33m.\u001b[0m\u001b[0mclassify\u001b[0m\u001b[1;33m.\u001b[0m\u001b[0mpositivenaivebayes\u001b[0m \u001b[1;32mimport\u001b[0m \u001b[0mPositiveNaiveBayesClassifier\u001b[0m\u001b[1;33m\u001b[0m\u001b[1;33m\u001b[0m\u001b[0m\n\u001b[0;32m     96\u001b[0m \u001b[1;32mfrom\u001b[0m \u001b[0mnltk\u001b[0m\u001b[1;33m.\u001b[0m\u001b[0mclassify\u001b[0m\u001b[1;33m.\u001b[0m\u001b[0mrte_classify\u001b[0m \u001b[1;32mimport\u001b[0m \u001b[0mRTEFeatureExtractor\u001b[0m\u001b[1;33m,\u001b[0m \u001b[0mrte_classifier\u001b[0m\u001b[1;33m,\u001b[0m \u001b[0mrte_features\u001b[0m\u001b[1;33m\u001b[0m\u001b[1;33m\u001b[0m\u001b[0m\n\u001b[1;32m---> 97\u001b[1;33m \u001b[1;32mfrom\u001b[0m \u001b[0mnltk\u001b[0m\u001b[1;33m.\u001b[0m\u001b[0mclassify\u001b[0m\u001b[1;33m.\u001b[0m\u001b[0mscikitlearn\u001b[0m \u001b[1;32mimport\u001b[0m \u001b[0mSklearnClassifier\u001b[0m\u001b[1;33m\u001b[0m\u001b[1;33m\u001b[0m\u001b[0m\n\u001b[0m\u001b[0;32m     98\u001b[0m \u001b[1;32mfrom\u001b[0m \u001b[0mnltk\u001b[0m\u001b[1;33m.\u001b[0m\u001b[0mclassify\u001b[0m\u001b[1;33m.\u001b[0m\u001b[0msenna\u001b[0m \u001b[1;32mimport\u001b[0m \u001b[0mSenna\u001b[0m\u001b[1;33m\u001b[0m\u001b[1;33m\u001b[0m\u001b[0m\n\u001b[0;32m     99\u001b[0m \u001b[1;32mfrom\u001b[0m \u001b[0mnltk\u001b[0m\u001b[1;33m.\u001b[0m\u001b[0mclassify\u001b[0m\u001b[1;33m.\u001b[0m\u001b[0mtextcat\u001b[0m \u001b[1;32mimport\u001b[0m \u001b[0mTextCat\u001b[0m\u001b[1;33m\u001b[0m\u001b[1;33m\u001b[0m\u001b[0m\n",
            "\u001b[1;32m~\\AppData\\Roaming\\Python\\Python310\\site-packages\\nltk\\classify\\scikitlearn.py\u001b[0m in \u001b[0;36m<module>\u001b[1;34m\u001b[0m\n\u001b[0;32m     36\u001b[0m \u001b[1;33m\u001b[0m\u001b[0m\n\u001b[0;32m     37\u001b[0m \u001b[1;32mtry\u001b[0m\u001b[1;33m:\u001b[0m\u001b[1;33m\u001b[0m\u001b[1;33m\u001b[0m\u001b[0m\n\u001b[1;32m---> 38\u001b[1;33m     \u001b[1;32mfrom\u001b[0m \u001b[0msklearn\u001b[0m\u001b[1;33m.\u001b[0m\u001b[0mfeature_extraction\u001b[0m \u001b[1;32mimport\u001b[0m \u001b[0mDictVectorizer\u001b[0m\u001b[1;33m\u001b[0m\u001b[1;33m\u001b[0m\u001b[0m\n\u001b[0m\u001b[0;32m     39\u001b[0m     \u001b[1;32mfrom\u001b[0m \u001b[0msklearn\u001b[0m\u001b[1;33m.\u001b[0m\u001b[0mpreprocessing\u001b[0m \u001b[1;32mimport\u001b[0m \u001b[0mLabelEncoder\u001b[0m\u001b[1;33m\u001b[0m\u001b[1;33m\u001b[0m\u001b[0m\n\u001b[0;32m     40\u001b[0m \u001b[1;32mexcept\u001b[0m \u001b[0mImportError\u001b[0m\u001b[1;33m:\u001b[0m\u001b[1;33m\u001b[0m\u001b[1;33m\u001b[0m\u001b[0m\n",
            "\u001b[1;32mc:\\Users\\ACER\\anaconda3\\envs\\nlp\\lib\\site-packages\\sklearn\\__init__.py\u001b[0m in \u001b[0;36m<module>\u001b[1;34m\u001b[0m\n\u001b[0;32m     80\u001b[0m     \u001b[1;32mfrom\u001b[0m \u001b[1;33m.\u001b[0m \u001b[1;32mimport\u001b[0m \u001b[0m_distributor_init\u001b[0m  \u001b[1;31m# noqa: F401\u001b[0m\u001b[1;33m\u001b[0m\u001b[1;33m\u001b[0m\u001b[0m\n\u001b[0;32m     81\u001b[0m     \u001b[1;32mfrom\u001b[0m \u001b[1;33m.\u001b[0m \u001b[1;32mimport\u001b[0m \u001b[0m__check_build\u001b[0m  \u001b[1;31m# noqa: F401\u001b[0m\u001b[1;33m\u001b[0m\u001b[1;33m\u001b[0m\u001b[0m\n\u001b[1;32m---> 82\u001b[1;33m     \u001b[1;32mfrom\u001b[0m \u001b[1;33m.\u001b[0m\u001b[0mbase\u001b[0m \u001b[1;32mimport\u001b[0m \u001b[0mclone\u001b[0m\u001b[1;33m\u001b[0m\u001b[1;33m\u001b[0m\u001b[0m\n\u001b[0m\u001b[0;32m     83\u001b[0m     \u001b[1;32mfrom\u001b[0m \u001b[1;33m.\u001b[0m\u001b[0mutils\u001b[0m\u001b[1;33m.\u001b[0m\u001b[0m_show_versions\u001b[0m \u001b[1;32mimport\u001b[0m \u001b[0mshow_versions\u001b[0m\u001b[1;33m\u001b[0m\u001b[1;33m\u001b[0m\u001b[0m\n\u001b[0;32m     84\u001b[0m \u001b[1;33m\u001b[0m\u001b[0m\n",
            "\u001b[1;32mc:\\Users\\ACER\\anaconda3\\envs\\nlp\\lib\\site-packages\\sklearn\\base.py\u001b[0m in \u001b[0;36m<module>\u001b[1;34m\u001b[0m\n\u001b[0;32m     15\u001b[0m \u001b[1;32mfrom\u001b[0m \u001b[1;33m.\u001b[0m \u001b[1;32mimport\u001b[0m \u001b[0m__version__\u001b[0m\u001b[1;33m\u001b[0m\u001b[1;33m\u001b[0m\u001b[0m\n\u001b[0;32m     16\u001b[0m \u001b[1;32mfrom\u001b[0m \u001b[1;33m.\u001b[0m\u001b[0m_config\u001b[0m \u001b[1;32mimport\u001b[0m \u001b[0mget_config\u001b[0m\u001b[1;33m\u001b[0m\u001b[1;33m\u001b[0m\u001b[0m\n\u001b[1;32m---> 17\u001b[1;33m \u001b[1;32mfrom\u001b[0m \u001b[1;33m.\u001b[0m\u001b[0mutils\u001b[0m \u001b[1;32mimport\u001b[0m \u001b[0m_IS_32BIT\u001b[0m\u001b[1;33m\u001b[0m\u001b[1;33m\u001b[0m\u001b[0m\n\u001b[0m\u001b[0;32m     18\u001b[0m from .utils._tags import (\n\u001b[0;32m     19\u001b[0m     \u001b[0m_DEFAULT_TAGS\u001b[0m\u001b[1;33m,\u001b[0m\u001b[1;33m\u001b[0m\u001b[1;33m\u001b[0m\u001b[0m\n",
            "\u001b[1;32mc:\\Users\\ACER\\anaconda3\\envs\\nlp\\lib\\site-packages\\sklearn\\utils\\__init__.py\u001b[0m in \u001b[0;36m<module>\u001b[1;34m\u001b[0m\n\u001b[0;32m     24\u001b[0m \u001b[1;32mfrom\u001b[0m \u001b[1;33m.\u001b[0m\u001b[0mmurmurhash\u001b[0m \u001b[1;32mimport\u001b[0m \u001b[0mmurmurhash3_32\u001b[0m\u001b[1;33m\u001b[0m\u001b[1;33m\u001b[0m\u001b[0m\n\u001b[0;32m     25\u001b[0m \u001b[1;32mfrom\u001b[0m \u001b[1;33m.\u001b[0m\u001b[0mclass_weight\u001b[0m \u001b[1;32mimport\u001b[0m \u001b[0mcompute_class_weight\u001b[0m\u001b[1;33m,\u001b[0m \u001b[0mcompute_sample_weight\u001b[0m\u001b[1;33m\u001b[0m\u001b[1;33m\u001b[0m\u001b[0m\n\u001b[1;32m---> 26\u001b[1;33m \u001b[1;32mfrom\u001b[0m \u001b[1;33m.\u001b[0m \u001b[1;32mimport\u001b[0m \u001b[0m_joblib\u001b[0m\u001b[1;33m\u001b[0m\u001b[1;33m\u001b[0m\u001b[0m\n\u001b[0m\u001b[0;32m     27\u001b[0m \u001b[1;32mfrom\u001b[0m \u001b[1;33m.\u001b[0m\u001b[1;33m.\u001b[0m\u001b[0mexceptions\u001b[0m \u001b[1;32mimport\u001b[0m \u001b[0mDataConversionWarning\u001b[0m\u001b[1;33m\u001b[0m\u001b[1;33m\u001b[0m\u001b[0m\n\u001b[0;32m     28\u001b[0m \u001b[1;32mfrom\u001b[0m \u001b[1;33m.\u001b[0m\u001b[0mdeprecation\u001b[0m \u001b[1;32mimport\u001b[0m \u001b[0mdeprecated\u001b[0m\u001b[1;33m\u001b[0m\u001b[1;33m\u001b[0m\u001b[0m\n",
            "\u001b[1;32mc:\\Users\\ACER\\anaconda3\\envs\\nlp\\lib\\site-packages\\sklearn\\utils\\_joblib.py\u001b[0m in \u001b[0;36m<module>\u001b[1;34m\u001b[0m\n\u001b[0;32m      5\u001b[0m     \u001b[1;31m# joblib imports may raise DeprecationWarning on certain Python\u001b[0m\u001b[1;33m\u001b[0m\u001b[1;33m\u001b[0m\u001b[0m\n\u001b[0;32m      6\u001b[0m     \u001b[1;31m# versions\u001b[0m\u001b[1;33m\u001b[0m\u001b[1;33m\u001b[0m\u001b[0m\n\u001b[1;32m----> 7\u001b[1;33m     \u001b[1;32mimport\u001b[0m \u001b[0mjoblib\u001b[0m\u001b[1;33m\u001b[0m\u001b[1;33m\u001b[0m\u001b[0m\n\u001b[0m\u001b[0;32m      8\u001b[0m     \u001b[1;32mfrom\u001b[0m \u001b[0mjoblib\u001b[0m \u001b[1;32mimport\u001b[0m \u001b[0mlogger\u001b[0m\u001b[1;33m\u001b[0m\u001b[1;33m\u001b[0m\u001b[0m\n\u001b[0;32m      9\u001b[0m     \u001b[1;32mfrom\u001b[0m \u001b[0mjoblib\u001b[0m \u001b[1;32mimport\u001b[0m \u001b[0mdump\u001b[0m\u001b[1;33m,\u001b[0m \u001b[0mload\u001b[0m\u001b[1;33m\u001b[0m\u001b[1;33m\u001b[0m\u001b[0m\n",
            "\u001b[1;32m~\\AppData\\Roaming\\Python\\Python310\\site-packages\\joblib\\__init__.py\u001b[0m in \u001b[0;36m<module>\u001b[1;34m\u001b[0m\n\u001b[0;32m    111\u001b[0m \u001b[1;33m\u001b[0m\u001b[0m\n\u001b[0;32m    112\u001b[0m \u001b[1;32mimport\u001b[0m \u001b[0mos\u001b[0m\u001b[1;33m\u001b[0m\u001b[1;33m\u001b[0m\u001b[0m\n\u001b[1;32m--> 113\u001b[1;33m \u001b[1;32mfrom\u001b[0m \u001b[1;33m.\u001b[0m\u001b[0mmemory\u001b[0m \u001b[1;32mimport\u001b[0m \u001b[0mMemory\u001b[0m\u001b[1;33m,\u001b[0m \u001b[0mMemorizedResult\u001b[0m\u001b[1;33m,\u001b[0m \u001b[0mregister_store_backend\u001b[0m\u001b[1;33m\u001b[0m\u001b[1;33m\u001b[0m\u001b[0m\n\u001b[0m\u001b[0;32m    114\u001b[0m \u001b[1;32mfrom\u001b[0m \u001b[1;33m.\u001b[0m\u001b[0mlogger\u001b[0m \u001b[1;32mimport\u001b[0m \u001b[0mPrintTime\u001b[0m\u001b[1;33m\u001b[0m\u001b[1;33m\u001b[0m\u001b[0m\n\u001b[0;32m    115\u001b[0m \u001b[1;32mfrom\u001b[0m \u001b[1;33m.\u001b[0m\u001b[0mlogger\u001b[0m \u001b[1;32mimport\u001b[0m \u001b[0mLogger\u001b[0m\u001b[1;33m\u001b[0m\u001b[1;33m\u001b[0m\u001b[0m\n",
            "\u001b[1;32m~\\AppData\\Roaming\\Python\\Python310\\site-packages\\joblib\\memory.py\u001b[0m in \u001b[0;36m<module>\u001b[1;34m\u001b[0m\n\u001b[0;32m     30\u001b[0m \u001b[1;32mfrom\u001b[0m \u001b[1;33m.\u001b[0m\u001b[0mfunc_inspect\u001b[0m \u001b[1;32mimport\u001b[0m \u001b[0mformat_signature\u001b[0m\u001b[1;33m\u001b[0m\u001b[1;33m\u001b[0m\u001b[0m\n\u001b[0;32m     31\u001b[0m \u001b[1;32mfrom\u001b[0m \u001b[1;33m.\u001b[0m\u001b[0mlogger\u001b[0m \u001b[1;32mimport\u001b[0m \u001b[0mLogger\u001b[0m\u001b[1;33m,\u001b[0m \u001b[0mformat_time\u001b[0m\u001b[1;33m,\u001b[0m \u001b[0mpformat\u001b[0m\u001b[1;33m\u001b[0m\u001b[1;33m\u001b[0m\u001b[0m\n\u001b[1;32m---> 32\u001b[1;33m \u001b[1;32mfrom\u001b[0m \u001b[1;33m.\u001b[0m\u001b[0m_store_backends\u001b[0m \u001b[1;32mimport\u001b[0m \u001b[0mStoreBackendBase\u001b[0m\u001b[1;33m,\u001b[0m \u001b[0mFileSystemStoreBackend\u001b[0m\u001b[1;33m\u001b[0m\u001b[1;33m\u001b[0m\u001b[0m\n\u001b[0m\u001b[0;32m     33\u001b[0m \u001b[1;33m\u001b[0m\u001b[0m\n\u001b[0;32m     34\u001b[0m \u001b[1;33m\u001b[0m\u001b[0m\n",
            "\u001b[1;32m~\\AppData\\Roaming\\Python\\Python310\\site-packages\\joblib\\_store_backends.py\u001b[0m in \u001b[0;36m<module>\u001b[1;34m\u001b[0m\n\u001b[0;32m     13\u001b[0m \u001b[1;32mfrom\u001b[0m \u001b[0mabc\u001b[0m \u001b[1;32mimport\u001b[0m \u001b[0mABCMeta\u001b[0m\u001b[1;33m,\u001b[0m \u001b[0mabstractmethod\u001b[0m\u001b[1;33m\u001b[0m\u001b[1;33m\u001b[0m\u001b[0m\n\u001b[0;32m     14\u001b[0m \u001b[1;33m\u001b[0m\u001b[0m\n\u001b[1;32m---> 15\u001b[1;33m \u001b[1;32mfrom\u001b[0m \u001b[1;33m.\u001b[0m\u001b[0mbackports\u001b[0m \u001b[1;32mimport\u001b[0m \u001b[0mconcurrency_safe_rename\u001b[0m\u001b[1;33m\u001b[0m\u001b[1;33m\u001b[0m\u001b[0m\n\u001b[0m\u001b[0;32m     16\u001b[0m \u001b[1;32mfrom\u001b[0m \u001b[1;33m.\u001b[0m\u001b[0mdisk\u001b[0m \u001b[1;32mimport\u001b[0m \u001b[0mmkdirp\u001b[0m\u001b[1;33m,\u001b[0m \u001b[0mmemstr_to_bytes\u001b[0m\u001b[1;33m,\u001b[0m \u001b[0mrm_subdirs\u001b[0m\u001b[1;33m\u001b[0m\u001b[1;33m\u001b[0m\u001b[0m\n\u001b[0;32m     17\u001b[0m \u001b[1;32mfrom\u001b[0m \u001b[1;33m.\u001b[0m \u001b[1;32mimport\u001b[0m \u001b[0mnumpy_pickle\u001b[0m\u001b[1;33m\u001b[0m\u001b[1;33m\u001b[0m\u001b[0m\n",
            "\u001b[1;32m~\\AppData\\Roaming\\Python\\Python310\\site-packages\\joblib\\backports.py\u001b[0m in \u001b[0;36m<module>\u001b[1;34m\u001b[0m\n\u001b[0;32m      5\u001b[0m \u001b[1;32mimport\u001b[0m \u001b[0mtime\u001b[0m\u001b[1;33m\u001b[0m\u001b[1;33m\u001b[0m\u001b[0m\n\u001b[0;32m      6\u001b[0m \u001b[1;33m\u001b[0m\u001b[0m\n\u001b[1;32m----> 7\u001b[1;33m \u001b[1;32mfrom\u001b[0m \u001b[0mdistutils\u001b[0m\u001b[1;33m.\u001b[0m\u001b[0mversion\u001b[0m \u001b[1;32mimport\u001b[0m \u001b[0mLooseVersion\u001b[0m\u001b[1;33m\u001b[0m\u001b[1;33m\u001b[0m\u001b[0m\n\u001b[0m\u001b[0;32m      8\u001b[0m \u001b[1;32mfrom\u001b[0m \u001b[0mos\u001b[0m\u001b[1;33m.\u001b[0m\u001b[0mpath\u001b[0m \u001b[1;32mimport\u001b[0m \u001b[0mbasename\u001b[0m\u001b[1;33m\u001b[0m\u001b[1;33m\u001b[0m\u001b[0m\n\u001b[0;32m      9\u001b[0m \u001b[1;32mfrom\u001b[0m \u001b[0mmultiprocessing\u001b[0m \u001b[1;32mimport\u001b[0m \u001b[0mutil\u001b[0m\u001b[1;33m\u001b[0m\u001b[1;33m\u001b[0m\u001b[0m\n",
            "\u001b[1;32mc:\\Users\\ACER\\anaconda3\\envs\\nlp\\lib\\importlib\\_bootstrap.py\u001b[0m in \u001b[0;36m_find_and_load\u001b[1;34m(name, import_)\u001b[0m\n",
            "\u001b[1;32mc:\\Users\\ACER\\anaconda3\\envs\\nlp\\lib\\importlib\\_bootstrap.py\u001b[0m in \u001b[0;36m_find_and_load_unlocked\u001b[1;34m(name, import_)\u001b[0m\n",
            "\u001b[1;32mc:\\Users\\ACER\\anaconda3\\envs\\nlp\\lib\\importlib\\_bootstrap.py\u001b[0m in \u001b[0;36m_find_spec\u001b[1;34m(name, path, target)\u001b[0m\n",
            "\u001b[1;32mc:\\Users\\ACER\\anaconda3\\envs\\nlp\\lib\\site-packages\\_distutils_hack\\__init__.py\u001b[0m in \u001b[0;36mfind_spec\u001b[1;34m(self, fullname, path, target)\u001b[0m\n\u001b[0;32m     95\u001b[0m         \u001b[0mmethod_name\u001b[0m \u001b[1;33m=\u001b[0m \u001b[1;34m'spec_for_{fullname}'\u001b[0m\u001b[1;33m.\u001b[0m\u001b[0mformat\u001b[0m\u001b[1;33m(\u001b[0m\u001b[1;33m**\u001b[0m\u001b[0mlocals\u001b[0m\u001b[1;33m(\u001b[0m\u001b[1;33m)\u001b[0m\u001b[1;33m)\u001b[0m\u001b[1;33m\u001b[0m\u001b[1;33m\u001b[0m\u001b[0m\n\u001b[0;32m     96\u001b[0m         \u001b[0mmethod\u001b[0m \u001b[1;33m=\u001b[0m \u001b[0mgetattr\u001b[0m\u001b[1;33m(\u001b[0m\u001b[0mself\u001b[0m\u001b[1;33m,\u001b[0m \u001b[0mmethod_name\u001b[0m\u001b[1;33m,\u001b[0m \u001b[1;32mlambda\u001b[0m\u001b[1;33m:\u001b[0m \u001b[1;32mNone\u001b[0m\u001b[1;33m)\u001b[0m\u001b[1;33m\u001b[0m\u001b[1;33m\u001b[0m\u001b[0m\n\u001b[1;32m---> 97\u001b[1;33m         \u001b[1;32mreturn\u001b[0m \u001b[0mmethod\u001b[0m\u001b[1;33m(\u001b[0m\u001b[1;33m)\u001b[0m\u001b[1;33m\u001b[0m\u001b[1;33m\u001b[0m\u001b[0m\n\u001b[0m\u001b[0;32m     98\u001b[0m \u001b[1;33m\u001b[0m\u001b[0m\n\u001b[0;32m     99\u001b[0m     \u001b[1;32mdef\u001b[0m \u001b[0mspec_for_distutils\u001b[0m\u001b[1;33m(\u001b[0m\u001b[0mself\u001b[0m\u001b[1;33m)\u001b[0m\u001b[1;33m:\u001b[0m\u001b[1;33m\u001b[0m\u001b[1;33m\u001b[0m\u001b[0m\n",
            "\u001b[1;32mc:\\Users\\ACER\\anaconda3\\envs\\nlp\\lib\\site-packages\\_distutils_hack\\__init__.py\u001b[0m in \u001b[0;36mspec_for_distutils\u001b[1;34m(self)\u001b[0m\n\u001b[0;32m    106\u001b[0m \u001b[1;33m\u001b[0m\u001b[0m\n\u001b[0;32m    107\u001b[0m         \u001b[1;32mtry\u001b[0m\u001b[1;33m:\u001b[0m\u001b[1;33m\u001b[0m\u001b[1;33m\u001b[0m\u001b[0m\n\u001b[1;32m--> 108\u001b[1;33m             \u001b[0mmod\u001b[0m \u001b[1;33m=\u001b[0m \u001b[0mimportlib\u001b[0m\u001b[1;33m.\u001b[0m\u001b[0mimport_module\u001b[0m\u001b[1;33m(\u001b[0m\u001b[1;34m'setuptools._distutils'\u001b[0m\u001b[1;33m)\u001b[0m\u001b[1;33m\u001b[0m\u001b[1;33m\u001b[0m\u001b[0m\n\u001b[0m\u001b[0;32m    109\u001b[0m         \u001b[1;32mexcept\u001b[0m \u001b[0mException\u001b[0m\u001b[1;33m:\u001b[0m\u001b[1;33m\u001b[0m\u001b[1;33m\u001b[0m\u001b[0m\n\u001b[0;32m    110\u001b[0m             \u001b[1;31m# There are a couple of cases where setuptools._distutils\u001b[0m\u001b[1;33m\u001b[0m\u001b[1;33m\u001b[0m\u001b[0m\n",
            "\u001b[1;32mc:\\Users\\ACER\\anaconda3\\envs\\nlp\\lib\\importlib\\__init__.py\u001b[0m in \u001b[0;36mimport_module\u001b[1;34m(name, package)\u001b[0m\n\u001b[0;32m    124\u001b[0m                 \u001b[1;32mbreak\u001b[0m\u001b[1;33m\u001b[0m\u001b[1;33m\u001b[0m\u001b[0m\n\u001b[0;32m    125\u001b[0m             \u001b[0mlevel\u001b[0m \u001b[1;33m+=\u001b[0m \u001b[1;36m1\u001b[0m\u001b[1;33m\u001b[0m\u001b[1;33m\u001b[0m\u001b[0m\n\u001b[1;32m--> 126\u001b[1;33m     \u001b[1;32mreturn\u001b[0m \u001b[0m_bootstrap\u001b[0m\u001b[1;33m.\u001b[0m\u001b[0m_gcd_import\u001b[0m\u001b[1;33m(\u001b[0m\u001b[0mname\u001b[0m\u001b[1;33m[\u001b[0m\u001b[0mlevel\u001b[0m\u001b[1;33m:\u001b[0m\u001b[1;33m]\u001b[0m\u001b[1;33m,\u001b[0m \u001b[0mpackage\u001b[0m\u001b[1;33m,\u001b[0m \u001b[0mlevel\u001b[0m\u001b[1;33m)\u001b[0m\u001b[1;33m\u001b[0m\u001b[1;33m\u001b[0m\u001b[0m\n\u001b[0m\u001b[0;32m    127\u001b[0m \u001b[1;33m\u001b[0m\u001b[0m\n\u001b[0;32m    128\u001b[0m \u001b[1;33m\u001b[0m\u001b[0m\n",
            "\u001b[1;32mc:\\Users\\ACER\\anaconda3\\envs\\nlp\\lib\\site-packages\\setuptools\\__init__.py\u001b[0m in \u001b[0;36m<module>\u001b[1;34m\u001b[0m\n\u001b[0;32m     16\u001b[0m \u001b[1;32mimport\u001b[0m \u001b[0msetuptools\u001b[0m\u001b[1;33m.\u001b[0m\u001b[0mversion\u001b[0m\u001b[1;33m\u001b[0m\u001b[1;33m\u001b[0m\u001b[0m\n\u001b[0;32m     17\u001b[0m \u001b[1;32mfrom\u001b[0m \u001b[0msetuptools\u001b[0m\u001b[1;33m.\u001b[0m\u001b[0mextension\u001b[0m \u001b[1;32mimport\u001b[0m \u001b[0mExtension\u001b[0m\u001b[1;33m\u001b[0m\u001b[1;33m\u001b[0m\u001b[0m\n\u001b[1;32m---> 18\u001b[1;33m \u001b[1;32mfrom\u001b[0m \u001b[0msetuptools\u001b[0m\u001b[1;33m.\u001b[0m\u001b[0mdist\u001b[0m \u001b[1;32mimport\u001b[0m \u001b[0mDistribution\u001b[0m\u001b[1;33m\u001b[0m\u001b[1;33m\u001b[0m\u001b[0m\n\u001b[0m\u001b[0;32m     19\u001b[0m \u001b[1;32mfrom\u001b[0m \u001b[0msetuptools\u001b[0m\u001b[1;33m.\u001b[0m\u001b[0mdepends\u001b[0m \u001b[1;32mimport\u001b[0m \u001b[0mRequire\u001b[0m\u001b[1;33m\u001b[0m\u001b[1;33m\u001b[0m\u001b[0m\n\u001b[0;32m     20\u001b[0m \u001b[1;32mfrom\u001b[0m \u001b[0msetuptools\u001b[0m\u001b[1;33m.\u001b[0m\u001b[0mdiscovery\u001b[0m \u001b[1;32mimport\u001b[0m \u001b[0mPackageFinder\u001b[0m\u001b[1;33m,\u001b[0m \u001b[0mPEP420PackageFinder\u001b[0m\u001b[1;33m\u001b[0m\u001b[1;33m\u001b[0m\u001b[0m\n",
            "\u001b[1;32mc:\\Users\\ACER\\anaconda3\\envs\\nlp\\lib\\site-packages\\setuptools\\dist.py\u001b[0m in \u001b[0;36m<module>\u001b[1;34m\u001b[0m\n\u001b[0;32m     45\u001b[0m \u001b[1;32mimport\u001b[0m \u001b[0mpkg_resources\u001b[0m\u001b[1;33m\u001b[0m\u001b[1;33m\u001b[0m\u001b[0m\n\u001b[0;32m     46\u001b[0m \u001b[1;32mfrom\u001b[0m \u001b[0msetuptools\u001b[0m\u001b[1;33m.\u001b[0m\u001b[0mextern\u001b[0m\u001b[1;33m.\u001b[0m\u001b[0mpackaging\u001b[0m \u001b[1;32mimport\u001b[0m \u001b[0mversion\u001b[0m\u001b[1;33m\u001b[0m\u001b[1;33m\u001b[0m\u001b[0m\n\u001b[1;32m---> 47\u001b[1;33m \u001b[1;32mfrom\u001b[0m \u001b[1;33m.\u001b[0m \u001b[1;32mimport\u001b[0m \u001b[0m_reqs\u001b[0m\u001b[1;33m\u001b[0m\u001b[1;33m\u001b[0m\u001b[0m\n\u001b[0m\u001b[0;32m     48\u001b[0m \u001b[1;32mfrom\u001b[0m \u001b[1;33m.\u001b[0m \u001b[1;32mimport\u001b[0m \u001b[0m_entry_points\u001b[0m\u001b[1;33m\u001b[0m\u001b[1;33m\u001b[0m\u001b[0m\n\u001b[0;32m     49\u001b[0m \u001b[1;33m\u001b[0m\u001b[0m\n",
            "\u001b[1;32mc:\\Users\\ACER\\anaconda3\\envs\\nlp\\lib\\site-packages\\setuptools\\_reqs.py\u001b[0m in \u001b[0;36m<module>\u001b[1;34m\u001b[0m\n\u001b[1;32m----> 1\u001b[1;33m \u001b[1;32mimport\u001b[0m \u001b[0msetuptools\u001b[0m\u001b[1;33m.\u001b[0m\u001b[0mextern\u001b[0m\u001b[1;33m.\u001b[0m\u001b[0mjaraco\u001b[0m\u001b[1;33m.\u001b[0m\u001b[0mtext\u001b[0m \u001b[1;32mas\u001b[0m \u001b[0mtext\u001b[0m\u001b[1;33m\u001b[0m\u001b[1;33m\u001b[0m\u001b[0m\n\u001b[0m\u001b[0;32m      2\u001b[0m \u001b[1;33m\u001b[0m\u001b[0m\n\u001b[0;32m      3\u001b[0m \u001b[1;32mfrom\u001b[0m \u001b[0mpkg_resources\u001b[0m \u001b[1;32mimport\u001b[0m \u001b[0mRequirement\u001b[0m\u001b[1;33m\u001b[0m\u001b[1;33m\u001b[0m\u001b[0m\n\u001b[0;32m      4\u001b[0m \u001b[1;33m\u001b[0m\u001b[0m\n\u001b[0;32m      5\u001b[0m \u001b[1;33m\u001b[0m\u001b[0m\n",
            "\u001b[1;32mc:\\Users\\ACER\\anaconda3\\envs\\nlp\\lib\\importlib\\_bootstrap.py\u001b[0m in \u001b[0;36m_find_and_load\u001b[1;34m(name, import_)\u001b[0m\n",
            "\u001b[1;32mc:\\Users\\ACER\\anaconda3\\envs\\nlp\\lib\\importlib\\_bootstrap.py\u001b[0m in \u001b[0;36m_find_and_load_unlocked\u001b[1;34m(name, import_)\u001b[0m\n",
            "\u001b[1;32mc:\\Users\\ACER\\anaconda3\\envs\\nlp\\lib\\importlib\\_bootstrap.py\u001b[0m in \u001b[0;36m_load_unlocked\u001b[1;34m(spec)\u001b[0m\n",
            "\u001b[1;32mc:\\Users\\ACER\\anaconda3\\envs\\nlp\\lib\\importlib\\_bootstrap_external.py\u001b[0m in \u001b[0;36mexec_module\u001b[1;34m(self, module)\u001b[0m\n",
            "\u001b[1;32mc:\\Users\\ACER\\anaconda3\\envs\\nlp\\lib\\importlib\\_bootstrap_external.py\u001b[0m in \u001b[0;36mget_code\u001b[1;34m(self, fullname)\u001b[0m\n",
            "\u001b[1;32mc:\\Users\\ACER\\anaconda3\\envs\\nlp\\lib\\importlib\\_bootstrap_external.py\u001b[0m in \u001b[0;36mget_data\u001b[1;34m(self, path)\u001b[0m\n",
            "\u001b[1;31mKeyboardInterrupt\u001b[0m: "
          ]
        }
      ],
      "source": [
        "import numpy as np\n",
        "import random\n",
        "import json\n",
        "import nltk\n",
        "import torch\n",
        "import torch.nn as nn\n",
        "from torch.utils.data import Dataset, DataLoader"
      ]
    },
    {
      "cell_type": "markdown",
      "metadata": {
        "id": "moJlB7I1OAmN"
      },
      "source": [
        "###Creating Custom Functions\n",
        "- create custom functions so that it is easy for us to implement afterwards"
      ]
    },
    {
      "cell_type": "code",
      "execution_count": 17,
      "metadata": {
        "id": "wvE_I3QMN-ye"
      },
      "outputs": [],
      "source": [
        "def tokenize(sentence):\n",
        "    return nltk.word_tokenize(sentence)\n",
        "\n",
        "def stem(word):\n",
        "    return stemmer.stem(word.lower())"
      ]
    },
    {
      "cell_type": "markdown",
      "metadata": {
        "id": "DzNUtuzSOKWx"
      },
      "source": [
        "Nltk or natural language took kit is a really useful library that contains important classes that will be useful in any of your NLP task."
      ]
    },
    {
      "cell_type": "markdown",
      "metadata": {
        "id": "fmRNxIxeOMnB"
      },
      "source": [
        "###Stemming\n",
        "- There are different methods that we can use for stemming. Here we will use Porter Stemmer model form our NLTK Library."
      ]
    },
    {
      "cell_type": "code",
      "execution_count": 18,
      "metadata": {
        "id": "9VLmbbt4OJbJ"
      },
      "outputs": [],
      "source": [
        "from nltk.stem.porter import PorterStemmer\n",
        "stemmer = PorterStemmer()"
      ]
    },
    {
      "cell_type": "markdown",
      "metadata": {
        "id": "PKByQhJfOTOS"
      },
      "source": [
        "###Bag of Words\n",
        "- We will be splitting each word in the sentences and adding it to an array.\n",
        "- We will loop over the each word in the all words array and the bog array corresponding to each word. If a word from the sentence is found in the all words array, 1 will be replaced at that index/position in bog array."
      ]
    },
    {
      "cell_type": "code",
      "execution_count": 19,
      "metadata": {
        "id": "uNSgyoO3OSY5"
      },
      "outputs": [],
      "source": [
        "def bag_of_words(tokenized_sentence, words):\n",
        "    \"\"\"\n",
        "    return bag of words array:\n",
        "    1 for each known word that exists in the sentence, 0 otherwise\n",
        "    example:\n",
        "    sentence = [\"hello\", \"how\", \"are\", \"you\"]\n",
        "    words = [\"hi\", \"hello\", \"I\", \"you\", \"bye\", \"thank\", \"cool\"]\n",
        "    bog   = [  0 ,    1 ,    0 ,   1 ,    0 ,    0 ,      0]\n",
        "    \"\"\"\n",
        "    # stem each word\n",
        "    sentence_words = [stem(word) for word in tokenized_sentence]\n",
        "    # initialize bag with 0 for each word\n",
        "    bag = np.zeros(len(words), dtype=np.float32)\n",
        "    for idx, w in enumerate(words):\n",
        "        if w in sentence_words: \n",
        "            bag[idx] = 1\n",
        "\n",
        "    return bag"
      ]
    },
    {
      "cell_type": "markdown",
      "metadata": {
        "id": "-7DDRhEkOdjb"
      },
      "source": [
        "During the the process , we will also use *nltk.word_tokenize()* which will convert a single sentence string into a list of word.\n",
        "\n",
        "---\n",
        "\n",
        "**Note**: we will pass lower case words to the stemmer so that words like Good and good (capitalized) won’t be labelled as different words."
      ]
    },
    {
      "cell_type": "markdown",
      "metadata": {
        "id": "i0_-zyKqOkQT"
      },
      "source": [
        "###Loading the Data & Cleaning it"
      ]
    },
    {
      "cell_type": "code",
      "execution_count": 20,
      "metadata": {
        "id": "Q5VYwDObOcoQ"
      },
      "outputs": [],
      "source": [
        "with open('intents.json', 'r') as f:\n",
        "    intents = json.load(f)"
      ]
    },
    {
      "cell_type": "code",
      "execution_count": 21,
      "metadata": {
        "colab": {
          "base_uri": "https://localhost:8080/"
        },
        "id": "wEumkqrfPPpy",
        "outputId": "f7cb2bcf-e57c-44fc-dea1-8b851b67e18e"
      },
      "outputs": [
        {
          "name": "stderr",
          "output_type": "stream",
          "text": [
            "[nltk_data] Downloading package punkt to /root/nltk_data...\n",
            "[nltk_data]   Package punkt is already up-to-date!\n"
          ]
        },
        {
          "data": {
            "text/plain": [
              "True"
            ]
          },
          "execution_count": 21,
          "metadata": {},
          "output_type": "execute_result"
        }
      ],
      "source": [
        "nltk.download('punkt')"
      ]
    },
    {
      "cell_type": "code",
      "execution_count": 22,
      "metadata": {
        "id": "3AYSCgj0PI6o"
      },
      "outputs": [],
      "source": [
        "all_words = []\n",
        "tags = []\n",
        "xy = []\n",
        "# loop through each sentence in our intents patterns\n",
        "for intent in intents['intents']:\n",
        "    tag = intent['tag']\n",
        "    # add to tag list\n",
        "    tags.append(tag)\n",
        "    for pattern in intent['patterns']:\n",
        "        # tokenize each word in the sentence\n",
        "        w = tokenize(pattern)\n",
        "        # add to our words list\n",
        "        all_words.extend(w)\n",
        "        # add to xy pair\n",
        "        xy.append((w, tag))"
      ]
    },
    {
      "cell_type": "markdown",
      "metadata": {
        "id": "L7nNzukyPSaM"
      },
      "source": [
        "This will separate all the tags & words into their separate lists"
      ]
    },
    {
      "cell_type": "markdown",
      "metadata": {
        "id": "9LJSyNYgPUTw"
      },
      "source": [
        "###Cleaning & Preparing the data using our custom functions"
      ]
    },
    {
      "cell_type": "code",
      "execution_count": 23,
      "metadata": {
        "colab": {
          "base_uri": "https://localhost:8080/"
        },
        "id": "2lUT6-BQPKRY",
        "outputId": "7992a539-dcde-45f6-85b0-826d5315bf0f"
      },
      "outputs": [
        {
          "name": "stdout",
          "output_type": "stream",
          "text": [
            "25854 patterns\n",
            "1720 tags: ['Alamat_Agrowisata_Kaligua', 'Alamat_Agrowisata_Salib_Putih', 'Alamat_Baturraden_Adventure_Forest', 'Alamat_Benteng_Pendem', 'Alamat_Benteng_Van_Der_Wijck', 'Alamat_Bukit_Pentulu_Indah', 'Alamat_Bukit_Siregol', 'Alamat_Cagar_Budaya_Prasasti_Plumpungan', 'Alamat_Clirit_View_Kalibakung', 'Alamat_Curug_Bayan', 'Alamat_Curug_Ceheng', 'Alamat_Curug_Cipendok', 'Alamat_Curug_Kalikarang', 'Alamat_Curug_Kaliurip', 'Alamat_Curug_Muncar', 'Alamat_Curug_Nangga', 'Alamat_Curug_Siklotok', 'Alamat_Curug_Silangit', 'Alamat_Danau_Ranjeng', 'Alamat_Depo_Bay', 'Alamat_Desa_Wisata_Adiluhur', 'Alamat_Desa_Wisata_Mangrove_Pandansari', 'Alamat_Desa_Wisata_Pandanrejo', 'Alamat_Desa_Wisata_Tanalum', 'Alamat_Desa_Wisata_Tingkir_Lor', 'Alamat_Dream_Land_Waterpark', 'Alamat_Germanggis', 'Alamat_Goa_Barat', 'Alamat_Goa_Jatijajar', 'Alamat_Goa_Lawa', 'Alamat_Goa_Maria_Kaliori', 'Alamat_Goa_Petruk', 'Alamat_Goa_Seplawan', 'Alamat_Gunung_Selok', 'Alamat_Hutan_Payau', 'Alamat_Hutan_Pinus_Kalilo', 'Alamat_Hutan_Pinus_Limpakuwus', 'Alamat_Jembangan_Wisata_Alam', 'Alamat_Kalibaya_Park', 'Alamat_Kemit_Forest', 'Alamat_Kolam_Renang_Kalitaman', 'Alamat_Lokawisata_Baturraden', 'Alamat_Masjid_Muhammad_Cheng_Ho', 'Alamat_Masjid_Saka_Tunggal', 'Alamat_Menara_Teratai', 'Alamat_Mendaki_Gunung_Slamet', 'Alamat_Monumen_Tempat_Lahir_Jendral_Soedirman', 'Alamat_Museum_Bank_Rakyat_Indonesia', 'Alamat_Museum_Prof_Dr_R_Soegarda_Poerbakawatja', 'Alamat_Museum_Semedo', 'Alamat_Museum_Soesilo_Soedarman', 'Alamat_Museum_Tosan_Aji', 'Alamat_Museum_Wayang_Sendang_Mas', 'Alamat_Owabong', 'Alamat_Palawi_Baturraden', 'Alamat_Pancuran_Pitu', 'Alamat_Pantai_Indah_Widarapayung', 'Alamat_Pantai_Jatimalang', 'Alamat_Pantai_Jetis_Cilacap', 'Alamat_Pantai_Karang_Bolong', 'Alamat_Pantai_Karang_Pakis', 'Alamat_Pantai_Ketapang_Indah', 'Alamat_Pantai_Ketawang', 'Alamat_Pantai_Logending', 'Alamat_Pantai_Menganti', 'Alamat_Pantai_Pasir_Putih_Nusakambangan', 'Alamat_Pantai_Pecaron', 'Alamat_Pantai_Petanahan', 'Alamat_Pantai_Purwahamba_Indah', 'Alamat_Pantai_Rancah_Babakan', 'Alamat_Pantai_Randusanga_Indah', 'Alamat_Pantai_Sodong', 'Alamat_Pantai_Surumanis', 'Alamat_Pantai_Suwuk', 'Alamat_Pantai_Teluk_Penyu', 'Alamat_Pasar_Tegalan', 'Alamat_Pemandian_Air_Panas_Cipanas_Buaran_dan_Tirtahusada', 'Alamat_Pemandian_Air_Panas_Cipari', 'Alamat_Pemandian_Air_Panas_Guci', 'Alamat_Pemandian_Air_Panas_Krakal', 'Alamat_Pemandian_Tirta_Asri_Walik', 'Alamat_Purbasari_Pancuran_Mas', 'Alamat_Rodjo_Tater', 'Alamat_Roemah_Martha_Tilaar', 'Alamat_Rumah_Wayang', 'Alamat_Sanggaluri_Park', 'Alamat_Sikepel_Hill', 'Alamat_Small_World', 'Alamat_Sukan_River_Tubing', 'Alamat_Taman_Angkasa_Binangun', 'Alamat_Taman_Geger_Menjangan', 'Alamat_Taman_Lazuardi', 'Alamat_Taman_Mas_Kemambang', 'Alamat_Taman_Rekreasi_Andhang_Pangrenan', 'Alamat_Taman_Sidandang', 'Alamat_Telaga_Sunyi', 'Alamat_The_Village_Purwokerto', 'Alamat_Tirta_Husada_Kalibacin', 'Alamat_Waduk_Cacaban', 'Alamat_Waduk_Kubangkangkung', 'Alamat_Waduk_Malahayu', 'Alamat_Waduk_Penjalin', 'Alamat_Waduk_Sempor', 'Alamat_Wana_Wisata_Baturraden', 'Alamat_Wana_Wisata_Sirah_Pemali_Winduaji', 'Alamat_Wisata_Alam_Wanasuta', 'Alamat_Wisata_Buken', 'Alamat_Wisata_Kesehatan_Jamu_Kalibakung', 'Alamat_Wisata_Outbound_Candi', 'Alamat_Wisata_Pereng', 'Deskripsi_Agrowisata_Kaligua', 'Deskripsi_Agrowisata_Salib_Putih', 'Deskripsi_Alun_Alun_Pancasila', 'Deskripsi_Alun_Alun_Purworejo', 'Deskripsi_Banyumas', 'Deskripsi_Baturraden_Adventure_Forest', 'Deskripsi_Bedug_Pendowo', 'Deskripsi_Benteng_Pendem', 'Deskripsi_Benteng_Van_Der_Wijck', 'Deskripsi_Bukit_Pentulu_Indah', 'Deskripsi_Bukit_Siregol', 'Deskripsi_Cagar_Budaya_Prasasti_Plumpungan', 'Deskripsi_Cilacap', 'Deskripsi_Clirit_View_Kalibakung', 'Deskripsi_Curug_Bayan', 'Deskripsi_Curug_Ceheng', 'Deskripsi_Curug_Cipendok', 'Deskripsi_Curug_Kalikarang', 'Deskripsi_Curug_Kaliurip', 'Deskripsi_Curug_Muncar', 'Deskripsi_Curug_Nangga', 'Deskripsi_Curug_Siklotok', 'Deskripsi_Curug_Silangit', 'Deskripsi_Danau_Ranjeng', 'Deskripsi_Depo_Bay', 'Deskripsi_Desa_Wisata_Adiluhur', 'Deskripsi_Desa_Wisata_Mangrove_Pandansari', 'Deskripsi_Desa_Wisata_Pandanrejo', 'Deskripsi_Desa_Wisata_Tanalum', 'Deskripsi_Desa_Wisata_Tingkir_Lor', 'Deskripsi_Dream_Land_Waterpark', 'Deskripsi_Germanggis', 'Deskripsi_Goa_Barat', 'Deskripsi_Goa_Jatijajar', 'Deskripsi_Goa_Lawa', 'Deskripsi_Goa_Maria_Kaliori', 'Deskripsi_Goa_Petruk', 'Deskripsi_Goa_Seplawan', 'Deskripsi_Gunung_Selok', 'Deskripsi_Hutan_Payau', 'Deskripsi_Hutan_Pinus_Kalilo', 'Deskripsi_Hutan_Pinus_Limpakuwus', 'Deskripsi_Jembangan_Wisata_Alam', 'Deskripsi_Kabupaten_Brebes', 'Deskripsi_Kabupaten_Kebumen', 'Deskripsi_Kabupaten_Purbalingga', 'Deskripsi_Kabupaten_Purworejo', 'Deskripsi_Kabupaten_Tegal', 'Deskripsi_Kalibaya_Park', 'Deskripsi_Kemit_Forest', 'Deskripsi_Kolam_Renang_Kalitaman', 'Deskripsi_Lokawisata_Baturraden', 'Deskripsi_Masjid_Loano', 'Deskripsi_Masjid_Muhammad_Cheng_Ho', 'Deskripsi_Masjid_Saka_Tunggal', 'Deskripsi_Masjid_Santren_Bagelen', 'Deskripsi_Menara_Teratai', 'Deskripsi_Mendaki_Gunung_Slamet', 'Deskripsi_Monumen_Tempat_Lahir_Jendral_Soedirman', 'Deskripsi_Museum_Bank_Rakyat_Indonesia', 'Deskripsi_Museum_Prof_Dr_R_Soegarda_Poerbakawatja', 'Deskripsi_Museum_Semedo', 'Deskripsi_Museum_Soesilo_Soedarman', 'Deskripsi_Museum_Tosan_Aji', 'Deskripsi_Museum_Wayang_Sendang_Mas', 'Deskripsi_Owabong', 'Deskripsi_Palawi_Baturraden', 'Deskripsi_Pancuran_Pitu', 'Deskripsi_Pantai_Indah_Widarapayung', 'Deskripsi_Pantai_Jatimalang', 'Deskripsi_Pantai_Jetis_Cilacap', 'Deskripsi_Pantai_Karang_Bolong', 'Deskripsi_Pantai_Karang_Pakis', 'Deskripsi_Pantai_Ketapang_Indah', 'Deskripsi_Pantai_Ketawang', 'Deskripsi_Pantai_Logending', 'Deskripsi_Pantai_Menganti', 'Deskripsi_Pantai_Pasir_Putih_Nusakambangan', 'Deskripsi_Pantai_Pecaron', 'Deskripsi_Pantai_Petanahan', 'Deskripsi_Pantai_Purwahamba_Indah', 'Deskripsi_Pantai_Rancah_Babakan', 'Deskripsi_Pantai_Randusanga_Indah', 'Deskripsi_Pantai_Sodong', 'Deskripsi_Pantai_Surumanis', 'Deskripsi_Pantai_Suwuk', 'Deskripsi_Pantai_Teluk_Penyu', 'Deskripsi_Pasar_Tegalan', 'Deskripsi_Pemandian_Air_Panas_Cipanas_Buaran_dan_Tirtahusada', 'Deskripsi_Pemandian_Air_Panas_Cipari', 'Deskripsi_Pemandian_Air_Panas_Guci', 'Deskripsi_Pemandian_Air_Panas_Krakal', 'Deskripsi_Pemandian_Tirta_Asri_Walik', 'Deskripsi_Purbasari_Pancuran_Mas', 'Deskripsi_Rodjo_Tater', 'Deskripsi_Roemah_Martha_Tilaar', 'Deskripsi_Rumah_Wayang', 'Deskripsi_Salatiga', 'Deskripsi_Sanggaluri_Park', 'Deskripsi_Sikepel_Hill', 'Deskripsi_Small_World', 'Deskripsi_Sukan_River_Tubing', 'Deskripsi_Taman_Angkasa_Binangun', 'Deskripsi_Taman_Geger_Menjangan', 'Deskripsi_Taman_Lazuardi', 'Deskripsi_Taman_Mas_Kemambang', 'Deskripsi_Taman_Rekreasi_Andhang_Pangrenan', 'Deskripsi_Taman_Sidandang', 'Deskripsi_Telaga_Sunyi', 'Deskripsi_The_Village_Purwokerto', 'Deskripsi_Tirta_Husada_Kalibacin', 'Deskripsi_Waduk_Cacaban', 'Deskripsi_Waduk_Kubangkangkung', 'Deskripsi_Waduk_Malahayu', 'Deskripsi_Waduk_Penjalin', 'Deskripsi_Waduk_Sempor', 'Deskripsi_Wana_Wisata_Baturraden', 'Deskripsi_Wana_Wisata_Sirah_Pemali_Winduaji', 'Deskripsi_Wisata_Alam_Wanasuta', 'Deskripsi_Wisata_Buken', 'Deskripsi_Wisata_Kesehatan_Jamu_Kalibakung', 'Deskripsi_Wisata_Outbound_Candi', 'Deskripsi_Wisata_Pereng', 'Jam_Operasional_dan_Harga_Tiket_Agrowisata_Kaligua', 'Jam_Operasional_dan_Harga_Tiket_Agrowisata_Salib_Putih', 'Jam_Operasional_dan_Harga_Tiket_Baturraden_Adventure_Forest', 'Jam_Operasional_dan_Harga_Tiket_Benteng_Pendem', 'Jam_Operasional_dan_Harga_Tiket_Benteng_Van_Der_Wijck', 'Jam_Operasional_dan_Harga_Tiket_Bukit_Pentulu_Indah', 'Jam_Operasional_dan_Harga_Tiket_Bukit_Siregol', 'Jam_Operasional_dan_Harga_Tiket_Cagar_Budaya_Prasasti_Plumpungan', 'Jam_Operasional_dan_Harga_Tiket_Clirit_View_Kalibakung', 'Jam_Operasional_dan_Harga_Tiket_Curug_Bayan', 'Jam_Operasional_dan_Harga_Tiket_Curug_Ceheng', 'Jam_Operasional_dan_Harga_Tiket_Curug_Cipendok', 'Jam_Operasional_dan_Harga_Tiket_Curug_Kalikarang', 'Jam_Operasional_dan_Harga_Tiket_Curug_Kaliurip', 'Jam_Operasional_dan_Harga_Tiket_Curug_Muncar', 'Jam_Operasional_dan_Harga_Tiket_Curug_Nangga', 'Jam_Operasional_dan_Harga_Tiket_Curug_Siklotok', 'Jam_Operasional_dan_Harga_Tiket_Curug_Silangit', 'Jam_Operasional_dan_Harga_Tiket_Danau_Ranjeng', 'Jam_Operasional_dan_Harga_Tiket_Depo_Bay', 'Jam_Operasional_dan_Harga_Tiket_Desa_Wisata_Adiluhur', 'Jam_Operasional_dan_Harga_Tiket_Desa_Wisata_Mangrove_Pandansari', 'Jam_Operasional_dan_Harga_Tiket_Desa_Wisata_Pandanrejo', 'Jam_Operasional_dan_Harga_Tiket_Desa_Wisata_Tanalum', 'Jam_Operasional_dan_Harga_Tiket_Desa_Wisata_Tingkir_Lor', 'Jam_Operasional_dan_Harga_Tiket_Dream_Land_Waterpark', 'Jam_Operasional_dan_Harga_Tiket_Germanggis', 'Jam_Operasional_dan_Harga_Tiket_Goa_Barat', 'Jam_Operasional_dan_Harga_Tiket_Goa_Jatijajar', 'Jam_Operasional_dan_Harga_Tiket_Goa_Lawa', 'Jam_Operasional_dan_Harga_Tiket_Goa_Maria_Kaliori', 'Jam_Operasional_dan_Harga_Tiket_Goa_Petruk', 'Jam_Operasional_dan_Harga_Tiket_Goa_Seplawan', 'Jam_Operasional_dan_Harga_Tiket_Gunung_Selok', 'Jam_Operasional_dan_Harga_Tiket_Hutan_Payau', 'Jam_Operasional_dan_Harga_Tiket_Hutan_Pinus_Kalilo', 'Jam_Operasional_dan_Harga_Tiket_Hutan_Pinus_Limpakuwus', 'Jam_Operasional_dan_Harga_Tiket_Jembangan_Wisata_Alam', 'Jam_Operasional_dan_Harga_Tiket_Kalibaya_Park', 'Jam_Operasional_dan_Harga_Tiket_Kemit_Forest', 'Jam_Operasional_dan_Harga_Tiket_Kolam_Renang_Kalitaman', 'Jam_Operasional_dan_Harga_Tiket_Lokawisata_Baturraden', 'Jam_Operasional_dan_Harga_Tiket_Masjid_Muhammad_Cheng_Ho', 'Jam_Operasional_dan_Harga_Tiket_Masjid_Saka_Tunggal', 'Jam_Operasional_dan_Harga_Tiket_Menara_Teratai', 'Jam_Operasional_dan_Harga_Tiket_Mendaki_Gunung_Slamet', 'Jam_Operasional_dan_Harga_Tiket_Monumen_Tempat_Lahir_Jendral_Soedirman', 'Jam_Operasional_dan_Harga_Tiket_Museum_Bank_Rakyat_Indonesia', 'Jam_Operasional_dan_Harga_Tiket_Museum_Prof_Dr_R_Soegarda_Poerbakawatja', 'Jam_Operasional_dan_Harga_Tiket_Museum_Semedo', 'Jam_Operasional_dan_Harga_Tiket_Museum_Soesilo_Soedarman', 'Jam_Operasional_dan_Harga_Tiket_Museum_Tosan_Aji', 'Jam_Operasional_dan_Harga_Tiket_Museum_Wayang_Sendang_Mas', 'Jam_Operasional_dan_Harga_Tiket_Owabong', 'Jam_Operasional_dan_Harga_Tiket_Palawi_Baturraden', 'Jam_Operasional_dan_Harga_Tiket_Pancuran_Pitu', 'Jam_Operasional_dan_Harga_Tiket_Pantai_Indah_Widarapayung', 'Jam_Operasional_dan_Harga_Tiket_Pantai_Jatimalang', 'Jam_Operasional_dan_Harga_Tiket_Pantai_Jetis_Cilacap', 'Jam_Operasional_dan_Harga_Tiket_Pantai_Karang_Bolong', 'Jam_Operasional_dan_Harga_Tiket_Pantai_Karang_Pakis', 'Jam_Operasional_dan_Harga_Tiket_Pantai_Ketapang_Indah', 'Jam_Operasional_dan_Harga_Tiket_Pantai_Ketawang', 'Jam_Operasional_dan_Harga_Tiket_Pantai_Logending', 'Jam_Operasional_dan_Harga_Tiket_Pantai_Menganti', 'Jam_Operasional_dan_Harga_Tiket_Pantai_Pasir_Putih_Nusakambangan', 'Jam_Operasional_dan_Harga_Tiket_Pantai_Pecaron', 'Jam_Operasional_dan_Harga_Tiket_Pantai_Petanahan', 'Jam_Operasional_dan_Harga_Tiket_Pantai_Purwahamba_Indah', 'Jam_Operasional_dan_Harga_Tiket_Pantai_Rancah_Babakan', 'Jam_Operasional_dan_Harga_Tiket_Pantai_Randusanga_Indah', 'Jam_Operasional_dan_Harga_Tiket_Pantai_Sodong', 'Jam_Operasional_dan_Harga_Tiket_Pantai_Surumanis', 'Jam_Operasional_dan_Harga_Tiket_Pantai_Suwuk', 'Jam_Operasional_dan_Harga_Tiket_Pantai_Teluk_Penyu', 'Jam_Operasional_dan_Harga_Tiket_Pasar_Tegalan', 'Jam_Operasional_dan_Harga_Tiket_Pemandian_Air_Panas_Cipanas_Buaran_dan_Tirtahusada', 'Jam_Operasional_dan_Harga_Tiket_Pemandian_Air_Panas_Cipari', 'Jam_Operasional_dan_Harga_Tiket_Pemandian_Air_Panas_Guci', 'Jam_Operasional_dan_Harga_Tiket_Pemandian_Air_Panas_Krakal', 'Jam_Operasional_dan_Harga_Tiket_Pemandian_Tirta_Asri_Walik', 'Jam_Operasional_dan_Harga_Tiket_Purbasari_Pancuran_Mas', 'Jam_Operasional_dan_Harga_Tiket_Rodjo_Tater', 'Jam_Operasional_dan_Harga_Tiket_Roemah_Martha_Tilaar', 'Jam_Operasional_dan_Harga_Tiket_Rumah_Wayang', 'Jam_Operasional_dan_Harga_Tiket_Sanggaluri_Park', 'Jam_Operasional_dan_Harga_Tiket_Sikepel_Hill', 'Jam_Operasional_dan_Harga_Tiket_Small_World', 'Jam_Operasional_dan_Harga_Tiket_Sukan_River_Tubing', 'Jam_Operasional_dan_Harga_Tiket_Taman_Angkasa_Binangun', 'Jam_Operasional_dan_Harga_Tiket_Taman_Geger_Menjangan', 'Jam_Operasional_dan_Harga_Tiket_Taman_Lazuardi', 'Jam_Operasional_dan_Harga_Tiket_Taman_Mas_Kemambang', 'Jam_Operasional_dan_Harga_Tiket_Taman_Rekreasi_Andhang_Pangrenan', 'Jam_Operasional_dan_Harga_Tiket_Taman_Sidandang', 'Jam_Operasional_dan_Harga_Tiket_Telaga_Sunyi', 'Jam_Operasional_dan_Harga_Tiket_The_Village_Purwokerto', 'Jam_Operasional_dan_Harga_Tiket_Tirta_Husada_Kalibacin', 'Jam_Operasional_dan_Harga_Tiket_Waduk_Cacaban', 'Jam_Operasional_dan_Harga_Tiket_Waduk_Kubangkangkung', 'Jam_Operasional_dan_Harga_Tiket_Waduk_Malahayu', 'Jam_Operasional_dan_Harga_Tiket_Waduk_Penjalin', 'Jam_Operasional_dan_Harga_Tiket_Waduk_Sempor', 'Jam_Operasional_dan_Harga_Tiket_Wana_Wisata_Baturraden', 'Jam_Operasional_dan_Harga_Tiket_Wana_Wisata_Sirah_Pemali_Winduaji', 'Jam_Operasional_dan_Harga_Tiket_Wisata_Alam_Wanasuta', 'Jam_Operasional_dan_Harga_Tiket_Wisata_Buken', 'Jam_Operasional_dan_Harga_Tiket_Wisata_Kesehatan_Jamu_Kalibakung', 'Jam_Operasional_dan_Harga_Tiket_Wisata_Outbound_Candi', 'Jam_Operasional_dan_Harga_Tiket_Wisata_Pereng', 'alamat_', 'alamat_Sibajag_green_Canyon', 'alamat_agrowisata_jollong', 'alamat_agrowisata_pagilaran', 'alamat_agrowisata_selopajang_timur', 'alamat_agrowisata_tambi', 'alamat_air_panas_candi_umbul', 'alamat_air_panas_pingit', 'alamat_air_terjun_girimanik', 'alamat_air_terjun_grenjengan_sewu', 'alamat_air_terjun_gulingan', 'alamat_air_terjun_montel', 'alamat_air_terjun_parang_ijo', 'alamat_air_terjun_rahtawu', 'alamat_air_terjun_sekar_langit', 'alamat_air_terjun_seloprojo', 'alamat_air_terjun_songgolangit', 'alamat_air_terjun_widuri', 'alamat_api_abadi_mrapen', 'alamat_arena_edukasi_intan_pari', 'alamat_ayodya_bloombang_waterpark', 'alamat_bahari_waterpark', 'alamat_bale_rantjah_park', 'alamat_bandar_ecopark', 'alamat_bandungan_waterpark', 'alamat_batik_kauman_kampong', 'alamat_batu_pandang_ratapan_angin', 'alamat_batu_seribu', 'alamat_benteng_portugis', 'alamat_benteng_voc', 'alamat_bledug_kuwu', 'alamat_borobudur_golf_country_club', 'alamat_bukit_cinta_rawa_pening', 'alamat_bukit_dagi', 'alamat_bukit_mongkrang', 'alamat_bukit_pangonan_dieng', 'alamat_bukit_pencu', 'alamat_bukit_pentuk', 'alamat_bukit_rhema', 'alamat_bukit_sanjaya', 'alamat_bukit_scooter', 'alamat_bukit_sepikul', 'alamat_bukit_siduguro', 'alamat_bukit_sikunir', 'alamat_bukit_tangkeban', 'alamat_bukit_teletubbies_gunung_prau', 'alamat_camera_house', 'alamat_candi_bima', 'alamat_candi_borobudur', 'alamat_candi_cetho', 'alamat_candi_dukuh', 'alamat_candi_dwarawati', 'alamat_candi_gatotkaca', 'alamat_candi_gedong_songo', 'alamat_candi_mendut', 'alamat_candi_merak', 'alamat_candi_ngawen', 'alamat_candi_pawon', 'alamat_candi_plaosan', 'alamat_candi_prambanan', 'alamat_candi_sari', 'alamat_candi_selogriyo', 'alamat_candi_sewu', 'alamat_candi_sojiwan', 'alamat_candi_sukuh', 'alamat_cimory_on_the_valley', 'alamat_coasari_river_tubing', 'alamat_curug_barong_pemalang', 'alamat_curug_bengkawah', 'alamat_curug_jeglong', 'alamat_curug_kaliurip', 'alamat_curug_kembar_bolodewo', 'alamat_curug_krajan', 'alamat_curug_lawe', 'alamat_curug_lawe_ungaran', 'alamat_curug_pitu', 'alamat_curug_pletuk', 'alamat_curug_semawur', 'alamat_curug_semirang', 'alamat_curug_sewu', 'alamat_curug_sibedil', 'alamat_curug_sidok_mandiraja', 'alamat_curug_sikarim', 'alamat_curug_silawe', 'alamat_curug_sirawe', 'alamat_curug_terocoh', 'alamat_curug_thitang', 'alamat_curug_tujuh_bidadari', 'alamat_curug_winong', 'alamat_danau_resto_purwodadi', 'alamat_danuwo_waterpark', 'alamat_de_Tjolomadoe', 'alamat_de_bale_cingkrong', 'alamat_deles_indah', 'alamat_desa_bahasa_borobudur', 'alamat_desa_giritirta', 'alamat_desa_wisata_bidaya_giyanti', 'alamat_desa_wisata_deroduwur', 'alamat_desa_wisata_gentansari', 'alamat_desa_wisata_gumelem', 'alamat_desa_wisata_jarum', 'alamat_desa_wisata_kandri', 'alamat_desa_wisata_kebondalem', 'alamat_desa_wisata_lerep', 'alamat_desa_wisata_nanas_madu', 'alamat_desa_wisata_ngargoretno', 'alamat_desa_wisata_tempur', 'alamat_desa_wisata_wonolopo', 'alamat_dieng_plateu_theater', 'alamat_dqiano_hot_spring_waterpark', 'alamat_dusun_semilir', 'alamat_embung_kledung', 'alamat_ganesha_sendang_salju', 'alamat_gapura_masjid_loran', 'alamat_gardu_pandang_tieng', 'alamat_gedung_kavalere-attilerie', 'alamat_gedung_lembu_sora', 'alamat_gereja_blenduk', 'alamat_gladag_langen_bogan', 'alamat_goa_kiskendo_kendal', 'alamat_goa_kreo', 'alamat_goa_lawa_goa_macan', 'alamat_goa_maria_kerep', 'alamat_goa_maria_rosa_mystica', 'alamat_goa_putri_kencono', 'alamat_goa_sentono', 'alamat_goa_terawang', 'alamat_gong_perdamaian', 'alamat_grand_maerakaca', 'alamat_grand_sondokoro', 'alamat_griya_keramik_balong', 'alamat_grojogan_jumog', 'alamat_grojogan_sewu', 'alamat_gubug_payung', 'alamat_gunung_gajah', 'alamat_gunung_merbabu', 'alamat_gunung_prau', 'alamat_gunung_tidar', 'alamat_hong_djien', 'alamat_hutan_magrove_jembatan_merah', 'alamat_hutan_walitis', 'alamat_hutan_wisata_tinjomoyo', 'alamat_jembatan_kaca_gumuk_reco', 'alamat_jepara_ourland_park', 'alamat_joglo_pencu', 'alamat_jombor_permai', 'alamat_junkyard', 'alamat_jurang_jero', 'alamat_kahyangan', 'alamat_kali_progo_park', 'alamat_kalianget_mangunan', 'alamat_kampoeng_djowo_sekatul', 'alamat_kampoeng_kopi_banaran', 'alamat_kampung_batik_weradesa', 'alamat_kampung_bluron', 'alamat_kampung_budaya_pijiwetan', 'alamat_kampung_kepuhsari', 'alamat_karang_gemantung', 'alamat_karangsrity', 'alamat_karimun_jawa', 'alamat_kartini_park', 'alamat_kawah_candradimuka', 'alamat_kawah_sikidang', 'alamat_kawah_sileri', 'alamat_kawasan_budaya_jetayu', 'alamat_kawasan_simpang_lima', 'alamat_kebun_raya_indrakilo', 'alamat_kebun_teh_bedakah', 'alamat_kedung_kayang', 'alamat_kembanglangit_park', 'alamat_keraton_kartasura', 'alamat_ketep_pass', 'alamat_khatulistiwa_garden', 'alamat_kledung_park', 'alamat_klenteng_cu_an_kiong', 'alamat_klenteng_gie_yong_bio', 'alamat_klenteng_hian_thian_siang_tee_jepara', 'alamat_klenteng_hok_ling_bio', 'alamat_klenteng_hok_tik_bio_pati', 'alamat_klenteng_liong_hok_bio_magelang', 'alamat_klenteng_mak_co_karanggeneng', 'alamat_klenteng_sam_poo_kong', 'alamat_klenteng_tay_kak_sie', 'alamat_klenteng_tek_hak_kiong', 'alamat_kolam_renang_doeng_coe', 'alamat_kolam_renang_kartika', 'alamat_kolam_renang_tirta_teja', 'alamat_komplek_candi_arjuna', 'alamat_kopeng_waterpark', 'alamat_kota_lama', 'alamat_krl_jogja-solo', 'alamat_kura_kura_ocean_park', 'alamat_langgeng_ecopark', 'alamat_lawang_sewu', 'alamat_lawu_park', 'alamat_lembah_gunung_madu', 'alamat_liyangan_pemukiman_dilereng_gunung_sindoro', 'alamat_lubang_sewu_erorejo', 'alamat_makam_RA_Kartini', 'alamat_makam_nyai_ageng_ngerang', 'alamat_makam_ronggowarsito', 'alamat_makam_sunan_bayat_ki_ageng_pandanaran', 'alamat_makam_sunan_muria', 'alamat_masjid_agung_jawa_tengah', 'alamat_masjid_agung_rembang', 'alamat_masjid_al_muttaqin_kaliwungu', 'alamat_masjid_al_wustho', 'alamat_masjid_besar_kauman_semarang', \"alamat_masjid_jami'_lasem\", 'alamat_masjid_jepang', 'alamat_masjid_mantingan', 'alamat_masjid_menara_kudus', 'alamat_mata_air_cokro', 'alamat_mc_edupark', 'alamat_medini_tea_plantation', 'alamat_meteorit_monumen', 'alamat_mina_mangrove_tunggulsari', 'alamat_monumen_tiga_menara', 'alamat_muara_indah_asemdoyong', 'alamat_muntilan_misi_museum', 'alamat_museum_R.Hamung_wardoyo', 'alamat_museum_batik_danar_hadi', 'alamat_museum_batik_pekalongan', 'alamat_museum_bumiputera_1912', 'alamat_museum_gula_gondang', 'alamat_museum_hwidayat', 'alamat_museum_jenang_kudus', 'alamat_museum_kailasa', 'alamat_museum_kamar_pengabdian_diponegoro', 'alamat_museum_kapal_samudra_raksa', 'alamat_museum_karst_indonesia', 'alamat_museum_kartini', 'alamat_museum_kereta_api_ambarawa', 'alamat_museum_keris_nusantara', 'alamat_museum_klaster_bukuran', 'alamat_museum_klaster_manyarejo', 'alamat_museum_klaster_ngebung', 'alamat_museum_kretek', 'alamat_museum_mandala_bhakti', 'alamat_museum_pers_nasional', 'alamat_museum_purbakala_dayu', 'alamat_museum_ra_kartini', 'alamat_museum_radyapustaka', 'alamat_museum_ranggawarsita', 'alamat_museum_rekor_indonesia_semarang', 'alamat_museum_sudirman', 'alamat_museum_taruna_abdul_jalil', 'alamat_ndayu_park', 'alamat_omah_opa', 'alamat_pagoda_avalokitesvara', 'alamat_palagan_ambarawa', 'alamat_pandansari_river_tubing', 'alamat_pandawa_water_world', 'alamat_pantai_alam_indah', 'alamat_pantai_bandengan', 'alamat_pantai_cahaya', 'alamat_pantai_caruban', 'alamat_pantai_celong', 'alamat_pantai_empu_rancak', 'alamat_pantai_jodo', 'alamat_pantai_joko_tingkir', 'alamat_pantai_joko_widuri', 'alamat_pantai_karangjahe', 'alamat_pantai_kartini', 'alamat_pantai_kertomulyo', 'alamat_pantai_marina', 'alamat_pantai_muarareja_indah', 'alamat_pantai_nampu', 'alamat_pantai_pasir_putih_wates', 'alamat_pantai_pulau_kodok', 'alamat_pantai_sembukan', 'alamat_pantai_sigandu', 'alamat_pantai_sumur_pandan', 'alamat_pantai_ujungnegoro', 'alamat_pantai_wulan_jati', 'alamat_paralayang_kemuning', 'alamat_paralayang_wonosobo', 'alamat_pasar_antik_triwindu', 'alamat_pasar_bahulak', 'alamat_pasar_lawas_kumandang', 'alamat_pasar_malam_ngarsopuro', 'alamat_pasar_projoburitan', 'alamat_patitie', 'alamat_pekalongan_mangarove_park ', 'alamat_pemandian_air_mata_mudal', 'alamat_pemandian_air_panas_bayanan', 'alamat_pemandian_air_panas_sangubanyu', 'alamat_pemandian_kali_suci_moga', 'alamat_pemandian_muncul', 'alamat_pendakian_gunung_sindoro_sumbing', 'alamat_pendakian_merapi_selo', 'alamat_pendakian_merbabu_selo', 'alamat_perkebunan_teh_kemuning', 'alamat_petilasan_keraton_kerajaan_pajang', 'alamat_pikatan_water_park', 'alamat_pinusan_kragilan', 'alamat_plantera_buah_paradise', 'alamat_posong', 'alamat_pringapus_temple', 'alamat_progo_rafting', 'alamat_pulau_panjang', 'alamat_puncak_gunung_lawu', 'alamat_punthuk_gupakan', 'alamat_punthuk_setumbu', 'alamat_pura_giri_natha', 'alamat_pura_indra_prasta', 'alamat_pura_mangkunegaran', 'alamat_purana_farmland_agrowisata_edukatif', 'alamat_puri_kayana_camping_ground', 'alamat_rainbow_rafting_pemalang', 'alamat_replika_fossil_gajah_purba_blora', 'alamat_rita_park', 'alamat_river_tubing_sendangsari', 'alamat_rumah_atsiri_indonesia', 'alamat_safari_beach_jateng', 'alamat_sapta_tirta_pablengan', 'alamat_semarang_zoo', 'alamat_sendang_sinongko', 'alamat_sendang_siwani', 'alamat_sepur_kluthuk_jalarada', 'alamat_seruling_mas_zoo', 'alamat_sikembang_park', 'alamat_silancur_highland', 'alamat_simpang_pakubuwonoVI_selo', 'alamat_simpang_siaga', 'alamat_sinsu_park', 'alamat_situs_manusia_purba_sangiran', 'alamat_situs_patiayam_kudus', 'alamat_skiban_di_kopeng', 'alamat_slamaran_beach ', 'alamat_sumur_jalatunda', 'alamat_sungai_welo', 'alamat_surya_yudha_park', 'alamat_svarga_bumi', 'alamat_taman_balekambang', 'alamat_taman_bengkelung', 'alamat_taman_budaya_dan_rekreasi_kramat', 'alamat_taman_budaya_raden_saleh', 'alamat_taman_bunga_celosia', 'alamat_taman_doa_ngrawoh', 'alamat_taman_krida_wisata', 'alamat_taman_rekreasi_kalianget', 'alamat_taman_rekreasi_tirtonadi', 'alamat_taman_rohani_anggrung_gondok', 'alamat_taman_satwa_taru_jurug', 'alamat_taman_selfie_bunga_cinta_kemantren', 'alamat_taman_wisata_pasir_kencana', 'alamat_tawangmangu_wonder_park', 'alamat_telaga_biru', 'alamat_telaga_blender', 'alamat_telaga_claket', 'alamat_telaga_menjer', 'alamat_telaga_merdada', 'alamat_telaga_sewiwi', 'alamat_telaga_warna', 'alamat_the_fountain_waterpark', 'alamat_the_heritage_palace', 'alamat_the_pikas_artventure_resort', 'alamat_tikako_caffe_java_culinary', 'alamat_tiongkok_kecil_lasem', 'alamat_tirta_kebon_ndelik_magelang', 'alamat_tirta_nusantara', 'alamat_tirto_argo_siwarak', 'alamat_tirto_arum_baru', 'alamat_titik_nol_km_kota_magelang', 'alamat_tugu_identitas_kudus', 'alamat_tugu_muda', 'alamat_tuk_bima_lukar', 'alamat_umbul_jumprit', 'alamat_umbul_ngabean', 'alamat_umbul_pengging', 'alamat_umbul_ponggok', 'alamat_umbul_sidomukti', 'alamat_umbul_tirto_mulyo', 'alamat_umbul_tlatar', 'alamat_via_ferrata', 'alamat_vihara_sadagiri', 'alamat_waduk_bade', 'alamat_waduk_cengklik', 'alamat_waduk_gajah_mungkur', 'alamat_waduk_greneng', 'alamat_waduk_gunung_rowo', 'alamat_waduk_jatibarang', 'alamat_waduk_kedung_ombo', 'alamat_waduk_kedungombo', 'alamat_waduk_mrica', 'alamat_waduk_mulur', 'alamat_waduk_tempuran', 'alamat_waduk_wadaslintang', 'alamat_wana_wisata_kartini_mantingan', 'alamat_wana_wisata_pijar_park', 'alamat_warung_dhuwur_blora', 'alamat_water_splash_taman_sarbini', 'alamat_watu_cenik', 'alamat_watu_gajah_park', 'alamat_watu_ireng', 'alamat_wisata_bahari_ppnp', 'alamat_wisata_girpasang', 'alamat_wisata_gunung_nganten', 'alamat_wisata_kopi_bowongso', 'alamat_wisata_religi_nyatnyono', 'alamat_zatobay_waterbom', 'deskripsi_Sibajag_green_Canyon', 'deskripsi_agrowisata_jollong', 'deskripsi_agrowisata_pagilaran', 'deskripsi_agrowisata_selopajang_timur', 'deskripsi_agrowisata_tambi', 'deskripsi_air_panas_candi_umbul', 'deskripsi_air_panas_pingit', 'deskripsi_air_terjun_girimanik', 'deskripsi_air_terjun_grenjengan_sewu', 'deskripsi_air_terjun_gulingan', 'deskripsi_air_terjun_montel', 'deskripsi_air_terjun_parang_ijo', 'deskripsi_air_terjun_rahtawu', 'deskripsi_air_terjun_sekar_langit', 'deskripsi_air_terjun_seloprojo', 'deskripsi_air_terjun_songgolangit', 'deskripsi_air_terjun_widuri', 'deskripsi_api_abadi_mrapen', 'deskripsi_arena_edukasi_intan_pari', 'deskripsi_ayodya_bloombang_waterpark', 'deskripsi_bahari_waterpark', 'deskripsi_bale_rantjah_park', 'deskripsi_bandar_ecopark', 'deskripsi_bandungan_waterpark', 'deskripsi_batik_kauman_kampong', 'deskripsi_batu_pandang_ratapan_angin', 'deskripsi_batu_seribu', 'deskripsi_benteng_portugis', 'deskripsi_benteng_voc', 'deskripsi_bledug_kuwu', 'deskripsi_borobudur_golf_country_club', 'deskripsi_bukit_cinta_rawa_pening', 'deskripsi_bukit_dagi', 'deskripsi_bukit_mongkrang', 'deskripsi_bukit_pangonan_dieng', 'deskripsi_bukit_pencu', 'deskripsi_bukit_pentuk', 'deskripsi_bukit_rhema', 'deskripsi_bukit_sanjaya', 'deskripsi_bukit_scooter', 'deskripsi_bukit_sepikul', 'deskripsi_bukit_siduguro', 'deskripsi_bukit_sikunir', 'deskripsi_bukit_tangkeban', 'deskripsi_bukit_teletubbies_gunung_prau', 'deskripsi_camera_house', 'deskripsi_candi_bima', 'deskripsi_candi_borobudur', 'deskripsi_candi_cetho', 'deskripsi_candi_dukuh', 'deskripsi_candi_dwarawati', 'deskripsi_candi_gatotkaca', 'deskripsi_candi_gedong_songo', 'deskripsi_candi_mendut', 'deskripsi_candi_merak', 'deskripsi_candi_ngawen', 'deskripsi_candi_pawon', 'deskripsi_candi_plaosan', 'deskripsi_candi_prambanan', 'deskripsi_candi_sari', 'deskripsi_candi_selogriyo', 'deskripsi_candi_sewu', 'deskripsi_candi_sojiwan', 'deskripsi_candi_sukuh', 'deskripsi_cimory_on_the_valley', 'deskripsi_coasari_river_tubing', 'deskripsi_curug_barong_pemalang', 'deskripsi_curug_bengkawah', 'deskripsi_curug_jeglong', 'deskripsi_curug_kaliurip', 'deskripsi_curug_kembar_bolodewo', 'deskripsi_curug_krajan', 'deskripsi_curug_lawe', 'deskripsi_curug_lawe_ungaran', 'deskripsi_curug_pitu', 'deskripsi_curug_pletuk', 'deskripsi_curug_semawur', 'deskripsi_curug_semirang', 'deskripsi_curug_sewu', 'deskripsi_curug_sibedil', 'deskripsi_curug_sidok_mandiraja', 'deskripsi_curug_sikarim', 'deskripsi_curug_silawe', 'deskripsi_curug_sirawe', 'deskripsi_curug_terocoh', 'deskripsi_curug_thitang', 'deskripsi_curug_tujuh_bidadari', 'deskripsi_curug_winong', 'deskripsi_danau_resto_purwodadi', 'deskripsi_danuwo_waterpark', 'deskripsi_de_Tjolomadoe', 'deskripsi_de_bale_cingkrong', 'deskripsi_deles_indah', 'deskripsi_desa_bahasa_borobudur', 'deskripsi_desa_giritirta', 'deskripsi_desa_wisata_bidaya_giyanti', 'deskripsi_desa_wisata_deroduwur', 'deskripsi_desa_wisata_gentansari', 'deskripsi_desa_wisata_gumelem', 'deskripsi_desa_wisata_jarum', 'deskripsi_desa_wisata_kandri', 'deskripsi_desa_wisata_kebondalem', 'deskripsi_desa_wisata_lerep', 'deskripsi_desa_wisata_nanas_madu', 'deskripsi_desa_wisata_ngargoretno', 'deskripsi_desa_wisata_tempur', 'deskripsi_desa_wisata_wonolopo', 'deskripsi_di_Kab_Boyolali', 'deskripsi_di_Kab_Karanganyar', 'deskripsi_di_Kab_Klaten', 'deskripsi_di_Kab_Pekalongan', 'deskripsi_di_Kab_Rembang', 'deskripsi_di_Kab_Sragen', 'deskripsi_di_Kab_Sukoharjo', 'deskripsi_di_Kab_Wonogiri', 'deskripsi_di_Kab_batang', 'deskripsi_di_Kota_Surakarta', 'deskripsi_di_Kota_tegal', 'deskripsi_di_kab_temanggung', 'deskripsi_di_kabupaten_banjarnegara', 'deskripsi_di_kabupaten_blora', 'deskripsi_di_kabupaten_magelang', 'deskripsi_di_kabupaten_pati', 'deskripsi_di_kabupaten_pemalang', 'deskripsi_di_kabupaten_wonosobo', 'deskripsi_di_kota_magelang', 'deskripsi_di_kota_pekalongan', 'deskripsi_dieng_plateu_theater', 'deskripsi_dqiano_hot_spring_waterpark', 'deskripsi_dusun_semilir', 'deskripsi_embung_kledung', 'deskripsi_ganesha_sendang_salju', 'deskripsi_gapura_masjid_loran', 'deskripsi_gardu_pandang_tieng', 'deskripsi_gedung_kavalere-attilerie', 'deskripsi_gedung_lembu_sora', 'deskripsi_gereja_blenduk', 'deskripsi_gladag_langen_bogan', 'deskripsi_goa_kiskendo_kendal', 'deskripsi_goa_kreo', 'deskripsi_goa_lawa_goa_macan', 'deskripsi_goa_maria_kerep', 'deskripsi_goa_maria_rosa_mystica', 'deskripsi_goa_putri_kencono', 'deskripsi_goa_sentono', 'deskripsi_goa_terawang', 'deskripsi_gong_perdamaian', 'deskripsi_grand_maerakaca', 'deskripsi_grand_sondokoro', 'deskripsi_griya_keramik_balong', 'deskripsi_grojogan_jumog', 'deskripsi_grojogan_sewu', 'deskripsi_gubug_payung', 'deskripsi_gunung_gajah', 'deskripsi_gunung_merbabu', 'deskripsi_gunung_prau', 'deskripsi_gunung_tidar', 'deskripsi_hong_djien', 'deskripsi_hutan_mangrove_jembatan_merah', 'deskripsi_hutan_walitis', 'deskripsi_hutan_wisata_tinjomoyo', 'deskripsi_jembatan_kaca_gumuk_reco', 'deskripsi_jepara_ourland_park', 'deskripsi_joglo_pencu', 'deskripsi_jombor_permai', 'deskripsi_junkyard', 'deskripsi_jurang_jero', 'deskripsi_kabupaten_grobogan', 'deskripsi_kabupaten_jepara', 'deskripsi_kabupaten_kendal', 'deskripsi_kabupaten_kudus', 'deskripsi_kabupaten_semarang', 'deskripsi_kahyangan', 'deskripsi_kali_progo_park', 'deskripsi_kalianget_mangunan', 'deskripsi_kampoeng_djowo_sekatul', 'deskripsi_kampoeng_kopi_banaran', 'deskripsi_kampung_batik_weradesa', 'deskripsi_kampung_bluron', 'deskripsi_kampung_budaya_piji_wetan', 'deskripsi_kampung_kepuhsari', 'deskripsi_karang_gemantung', 'deskripsi_karangsrity', 'deskripsi_karimun_jawa', 'deskripsi_kartini_park', 'deskripsi_kawah_candradimuka', 'deskripsi_kawah_sikidang', 'deskripsi_kawah_sileri', 'deskripsi_kawasan_budaya_jetayu', 'deskripsi_kawasan_simpang_lima', 'deskripsi_kebun_raya_indrakilo', 'deskripsi_kebun_teh_bedakah', 'deskripsi_kedung_kayang', 'deskripsi_kembanglangit_park', 'deskripsi_keraton_kartasura', 'deskripsi_ketep_pass', 'deskripsi_khatulistiwa_garden', 'deskripsi_kledung_park', 'deskripsi_klenteng_cu_an_kiong', 'deskripsi_klenteng_gie_yong_bio', 'deskripsi_klenteng_hian_thian_siang_tee_jepara', 'deskripsi_klenteng_hok_ling_bio', 'deskripsi_klenteng_hok_tik_bio_pati', 'deskripsi_klenteng_liong_hok_bio_magelang', 'deskripsi_klenteng_mak_co_karanggeneng', 'deskripsi_klenteng_sam_poo_kong', 'deskripsi_klenteng_tay_kak_sie', 'deskripsi_klenteng_tek_hak_kiong', 'deskripsi_kolam_renang_doeng_coe', 'deskripsi_kolam_renang_kartika', 'deskripsi_kolam_renang_tirta_teja', 'deskripsi_komplek_candi_arjuna', 'deskripsi_kopeng_waterpark', 'deskripsi_kota_lama', 'deskripsi_krl_jogja-solo', 'deskripsi_kura_kura_ocean_park', 'deskripsi_langgeng_ecopark', 'deskripsi_lawang_sewu', 'deskripsi_lawu_park', 'deskripsi_lembah_gunung_madu', 'deskripsi_liyangan_pemukiman_dilereng_gunung_sindoro', 'deskripsi_lubang_sewu_erorejo', 'deskripsi_makam_RA_Kartini', 'deskripsi_makam_nyai_ageng_ngerang', 'deskripsi_makam_ronggowarsito', 'deskripsi_makam_sunan_bayat_ki_ageng_pandanaran', 'deskripsi_makam_sunan_muria', 'deskripsi_masjid_agung_jawa_tengah', 'deskripsi_masjid_agung_rembang', 'deskripsi_masjid_al_muttaqin_kaliwungu', 'deskripsi_masjid_al_wustho', 'deskripsi_masjid_besar_kauman_semarang', \"deskripsi_masjid_jami'_lasem\", 'deskripsi_masjid_jepang', 'deskripsi_masjid_mantingan', 'deskripsi_masjid_menara_kudus', 'deskripsi_mata_air_cokro', 'deskripsi_mc_edupark', 'deskripsi_medini_tea_plantation', 'deskripsi_meteorit_monumen', 'deskripsi_mina_mangrove_tunggulsari', 'deskripsi_monumen_tiga_menara', 'deskripsi_muara_indah_asemdoyong', 'deskripsi_muntilan_misi_museum', 'deskripsi_museuk_bpk_ri', 'deskripsi_museum_R.Hamung_wardoyo', 'deskripsi_museum_batik_danar_hadi', 'deskripsi_museum_batik_pekalongan', 'deskripsi_museum_bumiputera_1912', 'deskripsi_museum_gula_gondang', 'deskripsi_museum_hwidayat', 'deskripsi_museum_jenang_kudus', 'deskripsi_museum_kailasa', 'deskripsi_museum_kamar_pengabdian_diponegoro', 'deskripsi_museum_kapal_samudra_raksa', 'deskripsi_museum_karst_indonesia', 'deskripsi_museum_kartini', 'deskripsi_museum_kereta_api_ambarawa', 'deskripsi_museum_keris_nusantara', 'deskripsi_museum_klaster_bukuran', 'deskripsi_museum_klaster_manyarejo', 'deskripsi_museum_klaster_ngebung', 'deskripsi_museum_kretek', 'deskripsi_museum_mandala_bhakti', 'deskripsi_museum_pers_nasional', 'deskripsi_museum_purbakala_dayu', 'deskripsi_museum_ra_kartini', 'deskripsi_museum_radyapustaka', 'deskripsi_museum_ranggawarsita', 'deskripsi_museum_rekor_indonesia_semarang', 'deskripsi_museum_sudirman', 'deskripsi_museum_taruna_abdul_jalil', 'deskripsi_ndayu_park', 'deskripsi_omah_opa', 'deskripsi_pagoda_avalokitesvara', 'deskripsi_palagan_ambarawa', 'deskripsi_pandansari_river_tubing', 'deskripsi_pandawa_water_world', 'deskripsi_pantai_alam_indah', 'deskripsi_pantai_bandengan', 'deskripsi_pantai_cahaya', 'deskripsi_pantai_caruban', 'deskripsi_pantai_celong', 'deskripsi_pantai_empu_rancak', 'deskripsi_pantai_jodo', 'deskripsi_pantai_joko_tingkir', 'deskripsi_pantai_joko_widuri', 'deskripsi_pantai_karangjahe', 'deskripsi_pantai_kartini', 'deskripsi_pantai_kertomulyo', 'deskripsi_pantai_marina', 'deskripsi_pantai_muarareja_indah', 'deskripsi_pantai_nampu', 'deskripsi_pantai_pasir_putih_wates', 'deskripsi_pantai_pulau_kodok', 'deskripsi_pantai_sembukan', 'deskripsi_pantai_sigandu', 'deskripsi_pantai_sumur_pandan', 'deskripsi_pantai_ujungnegoro', 'deskripsi_pantai_wulan_jati', 'deskripsi_paralayang_kemuning', 'deskripsi_paralayang_wonosobo', 'deskripsi_pasar_antik_triwindu', 'deskripsi_pasar_bahulak', 'deskripsi_pasar_lawas_kumandang', 'deskripsi_pasar_malam_ngarsopuro', 'deskripsi_pasar_projoburitan', 'deskripsi_patitie', 'deskripsi_pekalongan_mangarove_park ', 'deskripsi_pemandian_air_mata_mudal', 'deskripsi_pemandian_air_panas_bayanan', 'deskripsi_pemandian_air_panas_sangubanyu', 'deskripsi_pemandian_kali_suci_moga', 'deskripsi_pemandian_muncul', 'deskripsi_pendakian_gunung_sindoro_sumbing', 'deskripsi_pendakian_merapi_selo', 'deskripsi_pendakian_merbabu_selo', 'deskripsi_perkebunan_teh_kemuning', 'deskripsi_petilasan_keraton_kerajaan_pajang', 'deskripsi_pikatan_water_park', 'deskripsi_pinusan_kragilan', 'deskripsi_plantera_buah_paradise', 'deskripsi_posong', 'deskripsi_pringapus_temple', 'deskripsi_progo_rafting', 'deskripsi_pulau_panjang', 'deskripsi_puncak_gunung_lawu', 'deskripsi_punthuk_gupakan', 'deskripsi_punthuk_setumbu', 'deskripsi_pura_giri_natha', 'deskripsi_pura_indra_prasta', 'deskripsi_pura_mangkunegaran', 'deskripsi_purana_farmland_agrowisata_edukatif', 'deskripsi_puri_kayana_camping_ground', 'deskripsi_rainbow_rafting_pemalang', 'deskripsi_replika_fossil_gajah_purba_blora', 'deskripsi_rita_park', 'deskripsi_river_tubing_sendangsari', 'deskripsi_rowojombor', 'deskripsi_rumah_atsiri_indonesia', 'deskripsi_safari_beach_jateng', 'deskripsi_sapta_tirta_pablengan', 'deskripsi_semarang', 'deskripsi_semarang_zoo', 'deskripsi_sendang_sinongko', 'deskripsi_sendang_siwani', 'deskripsi_sepur_kluthuk_jalarada', 'deskripsi_seruling_mas_zoo', 'deskripsi_sikembang_park', 'deskripsi_silancur_highland', 'deskripsi_simpang_pakubuwonoVI_selo', 'deskripsi_simpang_siaga', 'deskripsi_sinsu_park', 'deskripsi_situs_manusia_purba_sangiran', 'deskripsi_situs_patiayam_kudus', 'deskripsi_skiban_di_kopeng', 'deskripsi_slamaran_beach ', 'deskripsi_sumur_jalatunda', 'deskripsi_sungai_welo', 'deskripsi_surya_yudha_park', 'deskripsi_svarga_bumi', 'deskripsi_taman_balekambang', 'deskripsi_taman_bengkelung', 'deskripsi_taman_budaya_dan_rekreasi_kramat', 'deskripsi_taman_budaya_raden_saleh', 'deskripsi_taman_bunga_celosia', 'deskripsi_taman_doa_ngrawoh', 'deskripsi_taman_krida_wisata_kudus', 'deskripsi_taman_rekreasi_kalianget', 'deskripsi_taman_rekreasi_tirtonadi', 'deskripsi_taman_rohani_anggrung_gondok', 'deskripsi_taman_satwa_taru_jurug', 'deskripsi_taman_selfie_bunga_cinta_kemantren', 'deskripsi_taman_wisata_pasir_kencana', 'deskripsi_tawangmangu_wonder_park', 'deskripsi_telaga_biru', 'deskripsi_telaga_blender', 'deskripsi_telaga_claket', 'deskripsi_telaga_menjer', 'deskripsi_telaga_merdada', 'deskripsi_telaga_sewiwi', 'deskripsi_telaga_warna', 'deskripsi_the_fountain_waterpark', 'deskripsi_the_heritage_palace', 'deskripsi_the_pikas_artventure_resort', 'deskripsi_tikako_caffe_java_culinary', 'deskripsi_tiongkok_kecil_lesem', 'deskripsi_tirta_kebon_ndelik_magelang', 'deskripsi_tirta_nusantara', 'deskripsi_tirto_argo_siwarak', 'deskripsi_tirto_arum_baru', 'deskripsi_titik_nol_km_kota_magelang', 'deskripsi_tugu_identitas_kudus', 'deskripsi_tugu_muda', 'deskripsi_tuk_bima_lukar', 'deskripsi_umbul_jumprit', 'deskripsi_umbul_ngabean', 'deskripsi_umbul_pengging', 'deskripsi_umbul_ponggok', 'deskripsi_umbul_sidomukti', 'deskripsi_umbul_tirto_mulyo', 'deskripsi_umbul_tlatar', 'deskripsi_via_ferrata', 'deskripsi_vihara_sadagiri', 'deskripsi_waduk_bade', 'deskripsi_waduk_cengklik', 'deskripsi_waduk_gajah_mungkur', 'deskripsi_waduk_greneng', 'deskripsi_waduk_gunung_rowo', 'deskripsi_waduk_jatibarang', 'deskripsi_waduk_kedung_ombo', 'deskripsi_waduk_kedungombo', 'deskripsi_waduk_mrica', 'deskripsi_waduk_mulur', 'deskripsi_waduk_tempuran', 'deskripsi_waduk_wadaslintang', 'deskripsi_wana_wisata_kartini_mantingan', 'deskripsi_wana_wisata_pijar_park_kudus', 'deskripsi_warung_dhuwur_blora', 'deskripsi_water_splash_taman_sarbini', 'deskripsi_watu_cenik', 'deskripsi_watu_gajah_park', 'deskripsi_watu_ireng', 'deskripsi_wisata_bahari_ppnp', 'deskripsi_wisata_girpasang', 'deskripsi_wisata_gunung_nganten', 'deskripsi_wisata_kopi_bowongso', 'deskripsi_wisata_religi_nyatnyono', 'deskripsi_zatobay_waterbom', 'goodbye', 'greeting', 'jam_operasional_harga_telaga_merdada', 'jam_operasional_harga_tiket_', 'jam_operasional_harga_tiket_Sibajag_green_Canyon', 'jam_operasional_harga_tiket_agrowisata_jollong', 'jam_operasional_harga_tiket_agrowisata_pagilaran', 'jam_operasional_harga_tiket_agrowisata_selopajang_timur', 'jam_operasional_harga_tiket_agrowisata_tambi', 'jam_operasional_harga_tiket_air_panas_candi_umbul', 'jam_operasional_harga_tiket_air_panas_pingit', 'jam_operasional_harga_tiket_air_terjun_girimanik', 'jam_operasional_harga_tiket_air_terjun_grenjengan_sewu', 'jam_operasional_harga_tiket_air_terjun_gulingan', 'jam_operasional_harga_tiket_air_terjun_montel', 'jam_operasional_harga_tiket_air_terjun_parang_ijo', 'jam_operasional_harga_tiket_air_terjun_rahtawu', 'jam_operasional_harga_tiket_air_terjun_sekar_langit', 'jam_operasional_harga_tiket_air_terjun_seloprojo', 'jam_operasional_harga_tiket_air_terjun_songgolangit', 'jam_operasional_harga_tiket_air_terjun_widuri', 'jam_operasional_harga_tiket_api_abadi_mrapen', 'jam_operasional_harga_tiket_arena_edukasi_intan_pari', 'jam_operasional_harga_tiket_ayodya_bloombang_waterpark', 'jam_operasional_harga_tiket_bahari_waterpark', 'jam_operasional_harga_tiket_bale_rantjah_park', 'jam_operasional_harga_tiket_bandar_ecopark', 'jam_operasional_harga_tiket_bandungan_waterpark', 'jam_operasional_harga_tiket_batik_kauman_kampong', 'jam_operasional_harga_tiket_batu_pandang_ratapan_angin', 'jam_operasional_harga_tiket_batu_seribu', 'jam_operasional_harga_tiket_benteng_portugis', 'jam_operasional_harga_tiket_benteng_voc', 'jam_operasional_harga_tiket_bledug_kuwu', 'jam_operasional_harga_tiket_borobudur_golf_country_club', 'jam_operasional_harga_tiket_bukit_cinta_rawa_pening', 'jam_operasional_harga_tiket_bukit_dagi', 'jam_operasional_harga_tiket_bukit_mongkrang', 'jam_operasional_harga_tiket_bukit_pangonan_dieng', 'jam_operasional_harga_tiket_bukit_pencu', 'jam_operasional_harga_tiket_bukit_pentuk', 'jam_operasional_harga_tiket_bukit_rhema', 'jam_operasional_harga_tiket_bukit_sanjaya', 'jam_operasional_harga_tiket_bukit_scooter', 'jam_operasional_harga_tiket_bukit_sepikul', 'jam_operasional_harga_tiket_bukit_siduguro', 'jam_operasional_harga_tiket_bukit_sikunir', 'jam_operasional_harga_tiket_bukit_tangkeban', 'jam_operasional_harga_tiket_bukit_teletubbies_gunung_prau', 'jam_operasional_harga_tiket_camera_house', 'jam_operasional_harga_tiket_candi_bima', 'jam_operasional_harga_tiket_candi_borobudur', 'jam_operasional_harga_tiket_candi_cetho', 'jam_operasional_harga_tiket_candi_dukuh', 'jam_operasional_harga_tiket_candi_dwarawati', 'jam_operasional_harga_tiket_candi_gatotkaca', 'jam_operasional_harga_tiket_candi_gedong_songo', 'jam_operasional_harga_tiket_candi_mendut', 'jam_operasional_harga_tiket_candi_merak', 'jam_operasional_harga_tiket_candi_ngawen', 'jam_operasional_harga_tiket_candi_pawon', 'jam_operasional_harga_tiket_candi_plaosan', 'jam_operasional_harga_tiket_candi_prambanan', 'jam_operasional_harga_tiket_candi_sari', 'jam_operasional_harga_tiket_candi_selogriyo', 'jam_operasional_harga_tiket_candi_sewu', 'jam_operasional_harga_tiket_candi_sojiwan', 'jam_operasional_harga_tiket_candi_sukuh', 'jam_operasional_harga_tiket_cimory_on_the_valley', 'jam_operasional_harga_tiket_coasari_river_tubing', 'jam_operasional_harga_tiket_curug_barong_pemalang', 'jam_operasional_harga_tiket_curug_bengkawah', 'jam_operasional_harga_tiket_curug_jeglong', 'jam_operasional_harga_tiket_curug_kaliurip', 'jam_operasional_harga_tiket_curug_kembar_bolodewo', 'jam_operasional_harga_tiket_curug_krajan', 'jam_operasional_harga_tiket_curug_lawe', 'jam_operasional_harga_tiket_curug_lawe_ungaran', 'jam_operasional_harga_tiket_curug_pitu', 'jam_operasional_harga_tiket_curug_pletuk', 'jam_operasional_harga_tiket_curug_semawur', 'jam_operasional_harga_tiket_curug_semirang', 'jam_operasional_harga_tiket_curug_sewu', 'jam_operasional_harga_tiket_curug_sibedil', 'jam_operasional_harga_tiket_curug_sidok_mandiraja', 'jam_operasional_harga_tiket_curug_sikarim', 'jam_operasional_harga_tiket_curug_silawe', 'jam_operasional_harga_tiket_curug_sirawe', 'jam_operasional_harga_tiket_curug_terocoh', 'jam_operasional_harga_tiket_curug_thitang', 'jam_operasional_harga_tiket_curug_tujuh_bidadari', 'jam_operasional_harga_tiket_curug_winong', 'jam_operasional_harga_tiket_danau_resto_purwodadi', 'jam_operasional_harga_tiket_danuwo_waterpark', 'jam_operasional_harga_tiket_de_Tjolomadoe', 'jam_operasional_harga_tiket_de_bale_cingkrong', 'jam_operasional_harga_tiket_deles_indah', 'jam_operasional_harga_tiket_desa_bahasa_borobudur', 'jam_operasional_harga_tiket_desa_giritirta', 'jam_operasional_harga_tiket_desa_wisata_bidaya_giyanti', 'jam_operasional_harga_tiket_desa_wisata_deroduwur', 'jam_operasional_harga_tiket_desa_wisata_gentansari', 'jam_operasional_harga_tiket_desa_wisata_gumelem', 'jam_operasional_harga_tiket_desa_wisata_jarum', 'jam_operasional_harga_tiket_desa_wisata_kandri', 'jam_operasional_harga_tiket_desa_wisata_kebondalem', 'jam_operasional_harga_tiket_desa_wisata_lerep', 'jam_operasional_harga_tiket_desa_wisata_nanas_madu', 'jam_operasional_harga_tiket_desa_wisata_ngargoretno', 'jam_operasional_harga_tiket_desa_wisata_tempur', 'jam_operasional_harga_tiket_desa_wisata_wonolopo', 'jam_operasional_harga_tiket_dieng_plateu_theater', 'jam_operasional_harga_tiket_dusun_semilir', 'jam_operasional_harga_tiket_embung_kledung', 'jam_operasional_harga_tiket_ganesha_sendang_salju', 'jam_operasional_harga_tiket_gapura_masjid_loran', 'jam_operasional_harga_tiket_gardu_pandang_tieng', 'jam_operasional_harga_tiket_gedung_kavalere-attilerie', 'jam_operasional_harga_tiket_gedung_lembu_sora', 'jam_operasional_harga_tiket_gereja_blenduk', 'jam_operasional_harga_tiket_gladag_langen_bogan', 'jam_operasional_harga_tiket_goa_kiskendo_kendal', 'jam_operasional_harga_tiket_goa_kreo', 'jam_operasional_harga_tiket_goa_lawa_goa_macan', 'jam_operasional_harga_tiket_goa_maria_kerep', 'jam_operasional_harga_tiket_goa_maria_rosa_mystica', 'jam_operasional_harga_tiket_goa_putri_kencono', 'jam_operasional_harga_tiket_goa_sentono', 'jam_operasional_harga_tiket_goa_terawang', 'jam_operasional_harga_tiket_gong_perdamaian', 'jam_operasional_harga_tiket_grand_maerakaca', 'jam_operasional_harga_tiket_grand_sondokoro', 'jam_operasional_harga_tiket_griya_keramik_balong', 'jam_operasional_harga_tiket_grojogan_jumog', 'jam_operasional_harga_tiket_grojogan_sewu', 'jam_operasional_harga_tiket_gubug_payung', 'jam_operasional_harga_tiket_gunung_gajah', 'jam_operasional_harga_tiket_gunung_merbabu', 'jam_operasional_harga_tiket_gunung_prau', 'jam_operasional_harga_tiket_gunung_tidar', 'jam_operasional_harga_tiket_hong_djien', 'jam_operasional_harga_tiket_hutan_magrove_jembatan_merah', 'jam_operasional_harga_tiket_hutan_walitis', 'jam_operasional_harga_tiket_hutan_wisata_tinjomoyo', 'jam_operasional_harga_tiket_jembatan_kaca_gumuk_reco', 'jam_operasional_harga_tiket_jepara_ourland_park', 'jam_operasional_harga_tiket_joglo_pencu', 'jam_operasional_harga_tiket_jombor_permai', 'jam_operasional_harga_tiket_junkyard', 'jam_operasional_harga_tiket_jurang_jero', 'jam_operasional_harga_tiket_kahyangan', 'jam_operasional_harga_tiket_kali_progo_park', 'jam_operasional_harga_tiket_kalianget_mangunan', 'jam_operasional_harga_tiket_kampoeng_djowo_sekatul', 'jam_operasional_harga_tiket_kampoeng_kopi_banaran', 'jam_operasional_harga_tiket_kampung_batik_weradesa', 'jam_operasional_harga_tiket_kampung_bluron', 'jam_operasional_harga_tiket_kampung_budaya_pijiwetan', 'jam_operasional_harga_tiket_kampung_kepuhsari', 'jam_operasional_harga_tiket_karang_gemantung', 'jam_operasional_harga_tiket_karangsrity', 'jam_operasional_harga_tiket_karimun_jawa', 'jam_operasional_harga_tiket_kartini_park', 'jam_operasional_harga_tiket_kawah_candradimuka', 'jam_operasional_harga_tiket_kawah_sikidang', 'jam_operasional_harga_tiket_kawah_sileri', 'jam_operasional_harga_tiket_kawasan_budaya_jetayu', 'jam_operasional_harga_tiket_kawasan_simpang_lima', 'jam_operasional_harga_tiket_kebun_raya_indrakilo', 'jam_operasional_harga_tiket_kebun_teh_bedakah', 'jam_operasional_harga_tiket_kedung_kayang', 'jam_operasional_harga_tiket_kembanglangit_park', 'jam_operasional_harga_tiket_keraton_kartasura', 'jam_operasional_harga_tiket_ketep_pass', 'jam_operasional_harga_tiket_khatulistiwa_garden', 'jam_operasional_harga_tiket_kledung_park', 'jam_operasional_harga_tiket_klenteng_cu_an_kiong', 'jam_operasional_harga_tiket_klenteng_gie_yong_bio', 'jam_operasional_harga_tiket_klenteng_hian_thian_siang_tee_jepara', 'jam_operasional_harga_tiket_klenteng_hok_ling_bio', 'jam_operasional_harga_tiket_klenteng_hok_tik_bio_pati', 'jam_operasional_harga_tiket_klenteng_liong_hok_bio_magelang', 'jam_operasional_harga_tiket_klenteng_mak_co_karanggeneng', 'jam_operasional_harga_tiket_klenteng_sam_poo_kong', 'jam_operasional_harga_tiket_klenteng_tay_kak_sie', 'jam_operasional_harga_tiket_klenteng_tek_hak_kiong', 'jam_operasional_harga_tiket_kolam_renang_doeng_coe', 'jam_operasional_harga_tiket_kolam_renang_kartika', 'jam_operasional_harga_tiket_kolam_renang_tirta_teja', 'jam_operasional_harga_tiket_komplek_candi_arjuna', 'jam_operasional_harga_tiket_kopeng_waterpark', 'jam_operasional_harga_tiket_kota_lama', 'jam_operasional_harga_tiket_krl_jogja-solo', 'jam_operasional_harga_tiket_kura_kura_ocean_park', 'jam_operasional_harga_tiket_langgeng_ecopark', 'jam_operasional_harga_tiket_lawang_sewu', 'jam_operasional_harga_tiket_lawu_park', 'jam_operasional_harga_tiket_lembah_gunung_madu', 'jam_operasional_harga_tiket_liyangan_pemukiman_dilereng_gunung_sindoro', 'jam_operasional_harga_tiket_lubang_sewu_erorejo', 'jam_operasional_harga_tiket_makam_RA_Kartini', 'jam_operasional_harga_tiket_makam_nyai_ageng_ngerang', 'jam_operasional_harga_tiket_makam_ronggowarsito', 'jam_operasional_harga_tiket_makam_sunan_bayat_ki_ageng_pandanaran', 'jam_operasional_harga_tiket_makam_sunan_muria', 'jam_operasional_harga_tiket_masjid_agung_jawa_tengah', 'jam_operasional_harga_tiket_masjid_agung_rembang', 'jam_operasional_harga_tiket_masjid_al_muttaqin_kaliwungu', 'jam_operasional_harga_tiket_masjid_al_wustho', 'jam_operasional_harga_tiket_masjid_besar_kauman_semarang', \"jam_operasional_harga_tiket_masjid_jami'_lasem\", 'jam_operasional_harga_tiket_masjid_jepang', 'jam_operasional_harga_tiket_masjid_mantingan', 'jam_operasional_harga_tiket_masjid_menara_kudus', 'jam_operasional_harga_tiket_mata_air_cokro', 'jam_operasional_harga_tiket_mc_edupark', 'jam_operasional_harga_tiket_medini_tea_plantation', 'jam_operasional_harga_tiket_meteorit_monumen', 'jam_operasional_harga_tiket_mina_mangrove_tunggulsari', 'jam_operasional_harga_tiket_monumen_tiga_menara', 'jam_operasional_harga_tiket_muara_indah_asemdoyong', 'jam_operasional_harga_tiket_muntilan_misi_museum', 'jam_operasional_harga_tiket_museum_R.Hamung_wardoyo', 'jam_operasional_harga_tiket_museum_batik_danar_hadi', 'jam_operasional_harga_tiket_museum_batik_pekalongan', 'jam_operasional_harga_tiket_museum_bumiputera_1912', 'jam_operasional_harga_tiket_museum_gula_gondang', 'jam_operasional_harga_tiket_museum_hwidayat', 'jam_operasional_harga_tiket_museum_jenang_kudus', 'jam_operasional_harga_tiket_museum_kailasa', 'jam_operasional_harga_tiket_museum_kamar_pengabdian_diponegoro', 'jam_operasional_harga_tiket_museum_kapal_samudra_raksa', 'jam_operasional_harga_tiket_museum_karst_indonesia', 'jam_operasional_harga_tiket_museum_kartini', 'jam_operasional_harga_tiket_museum_kereta_api_ambarawa', 'jam_operasional_harga_tiket_museum_keris_nusantara', 'jam_operasional_harga_tiket_museum_klaster_bukuran', 'jam_operasional_harga_tiket_museum_klaster_manyarejo', 'jam_operasional_harga_tiket_museum_klaster_ngebung', 'jam_operasional_harga_tiket_museum_kretek', 'jam_operasional_harga_tiket_museum_mandala_bhakti', 'jam_operasional_harga_tiket_museum_pers_nasional', 'jam_operasional_harga_tiket_museum_purbakala_dayu', 'jam_operasional_harga_tiket_museum_ra_kartini', 'jam_operasional_harga_tiket_museum_radyapustaka', 'jam_operasional_harga_tiket_museum_ranggawarsita', 'jam_operasional_harga_tiket_museum_rekor_indonesia_semarang', 'jam_operasional_harga_tiket_museum_sudirman', 'jam_operasional_harga_tiket_museum_taruna_abdul_jalil', 'jam_operasional_harga_tiket_ndayu_park', 'jam_operasional_harga_tiket_omah_opa', 'jam_operasional_harga_tiket_pagoda_avalokitesvara', 'jam_operasional_harga_tiket_palagan_ambarawa', 'jam_operasional_harga_tiket_pandansari_river_tubing', 'jam_operasional_harga_tiket_pandawa_water_world', 'jam_operasional_harga_tiket_pantai_alam_indah', 'jam_operasional_harga_tiket_pantai_bandengan', 'jam_operasional_harga_tiket_pantai_cahaya', 'jam_operasional_harga_tiket_pantai_caruban', 'jam_operasional_harga_tiket_pantai_celong', 'jam_operasional_harga_tiket_pantai_empu_rancak', 'jam_operasional_harga_tiket_pantai_jodo', 'jam_operasional_harga_tiket_pantai_joko_tingkir', 'jam_operasional_harga_tiket_pantai_joko_widuri', 'jam_operasional_harga_tiket_pantai_karangjahe', 'jam_operasional_harga_tiket_pantai_kartini', 'jam_operasional_harga_tiket_pantai_kertomulyo', 'jam_operasional_harga_tiket_pantai_marina', 'jam_operasional_harga_tiket_pantai_muarareja_indah', 'jam_operasional_harga_tiket_pantai_nampu', 'jam_operasional_harga_tiket_pantai_pasir_putih_wates', 'jam_operasional_harga_tiket_pantai_pulau_kodok', 'jam_operasional_harga_tiket_pantai_sembukan', 'jam_operasional_harga_tiket_pantai_sigandu', 'jam_operasional_harga_tiket_pantai_sumur_pandan', 'jam_operasional_harga_tiket_pantai_ujungnegoro', 'jam_operasional_harga_tiket_pantai_wulan_jati', 'jam_operasional_harga_tiket_paralayang_kemuning', 'jam_operasional_harga_tiket_paralayang_wonosobo', 'jam_operasional_harga_tiket_pasar_antik_triwindu', 'jam_operasional_harga_tiket_pasar_bahulak', 'jam_operasional_harga_tiket_pasar_lawas_kumandang', 'jam_operasional_harga_tiket_pasar_malam_ngarsopuro', 'jam_operasional_harga_tiket_pasar_projoburitan', 'jam_operasional_harga_tiket_patitie', 'jam_operasional_harga_tiket_pekalongan_mangarove_park ', 'jam_operasional_harga_tiket_pemandian_air_mata_mudal', 'jam_operasional_harga_tiket_pemandian_air_panas_bayanan', 'jam_operasional_harga_tiket_pemandian_air_panas_sangubanyu', 'jam_operasional_harga_tiket_pemandian_kali_suci_moga', 'jam_operasional_harga_tiket_pendakian_gunung_sindoro_sumbing', 'jam_operasional_harga_tiket_pendakian_merapi_selo', 'jam_operasional_harga_tiket_pendakian_merbabu_selo', 'jam_operasional_harga_tiket_perkebunan_teh_kemuning', 'jam_operasional_harga_tiket_petilasan_keraton_kerajaan_pajang', 'jam_operasional_harga_tiket_pikatan_water_park', 'jam_operasional_harga_tiket_pinusan_kragilan', 'jam_operasional_harga_tiket_plantera_buah_paradise', 'jam_operasional_harga_tiket_posong', 'jam_operasional_harga_tiket_pringapus_temple', 'jam_operasional_harga_tiket_progo_rafting', 'jam_operasional_harga_tiket_pulau_panjang', 'jam_operasional_harga_tiket_puncak_gunung_lawu', 'jam_operasional_harga_tiket_punthuk_gupakan', 'jam_operasional_harga_tiket_punthuk_setumbu', 'jam_operasional_harga_tiket_pura_giri_natha', 'jam_operasional_harga_tiket_pura_indra_prasta', 'jam_operasional_harga_tiket_pura_mangkunegaran', 'jam_operasional_harga_tiket_purana_farmland_agrowisata_edukatif', 'jam_operasional_harga_tiket_puri_kayana_camping_ground', 'jam_operasional_harga_tiket_rainbow_rafting_pemalang', 'jam_operasional_harga_tiket_replika_fossil_gajah_purba_blora', 'jam_operasional_harga_tiket_rita_park', 'jam_operasional_harga_tiket_river_tubing_sendangsari', 'jam_operasional_harga_tiket_rumah_atsiri_indonesia', 'jam_operasional_harga_tiket_safari_beach_jateng', 'jam_operasional_harga_tiket_sapta_tirta_pablengan', 'jam_operasional_harga_tiket_semarang_zoo', 'jam_operasional_harga_tiket_sendang_sinongko', 'jam_operasional_harga_tiket_sendang_siwani', 'jam_operasional_harga_tiket_sepur_kluthuk_jalarada', 'jam_operasional_harga_tiket_seruling_mas_zoo', 'jam_operasional_harga_tiket_sikembang_park', 'jam_operasional_harga_tiket_silancur_highland', 'jam_operasional_harga_tiket_simpang_pakubuwonoVI_selo', 'jam_operasional_harga_tiket_simpang_siaga', 'jam_operasional_harga_tiket_sinsu_park', 'jam_operasional_harga_tiket_situs_manusia_purba_sangiran', 'jam_operasional_harga_tiket_situs_patiayam_kudus', 'jam_operasional_harga_tiket_skiban_di_kopeng', 'jam_operasional_harga_tiket_slamaran_beach ', 'jam_operasional_harga_tiket_sumur_jalatunda', 'jam_operasional_harga_tiket_sungai_welo', 'jam_operasional_harga_tiket_surya_yudha_park', 'jam_operasional_harga_tiket_svarga_bumi', 'jam_operasional_harga_tiket_taman_balekambang', 'jam_operasional_harga_tiket_taman_bengkelung', 'jam_operasional_harga_tiket_taman_budaya_dan_rekreasi_kramat', 'jam_operasional_harga_tiket_taman_budaya_raden_saleh', 'jam_operasional_harga_tiket_taman_bunga_celosia', 'jam_operasional_harga_tiket_taman_doa_ngrawoh', 'jam_operasional_harga_tiket_taman_krida_wisata', 'jam_operasional_harga_tiket_taman_rekreasi_kalianget', 'jam_operasional_harga_tiket_taman_rekreasi_tirtonadi', 'jam_operasional_harga_tiket_taman_rohani_anggrung_gondok', 'jam_operasional_harga_tiket_taman_satwa_taru_jurug', 'jam_operasional_harga_tiket_taman_selfie_bunga_cinta_kemantren', 'jam_operasional_harga_tiket_taman_wisata_pasir_kencana', 'jam_operasional_harga_tiket_tawangmangu_wonder_park', 'jam_operasional_harga_tiket_telaga_biru', 'jam_operasional_harga_tiket_telaga_blender', 'jam_operasional_harga_tiket_telaga_claket', 'jam_operasional_harga_tiket_telaga_menjer', 'jam_operasional_harga_tiket_telaga_merdada', 'jam_operasional_harga_tiket_telaga_sewiwi', 'jam_operasional_harga_tiket_telaga_warna', 'jam_operasional_harga_tiket_the_fountain_waterpark', 'jam_operasional_harga_tiket_the_heritage_palace', 'jam_operasional_harga_tiket_the_pikas_artventure_resort', 'jam_operasional_harga_tiket_tikako_caffe_java_culinary', 'jam_operasional_harga_tiket_tiongkok_kecil_lasem', 'jam_operasional_harga_tiket_tirta_kebon_ndelik_magelang', 'jam_operasional_harga_tiket_tirta_nusantara', 'jam_operasional_harga_tiket_tirto_argo_siwarak', 'jam_operasional_harga_tiket_tirto_arum_baru', 'jam_operasional_harga_tiket_titik_nol_km_kota_magelang', 'jam_operasional_harga_tiket_tugu_identitas_kudus', 'jam_operasional_harga_tiket_tugu_muda', 'jam_operasional_harga_tiket_tuk_bima_lukar', 'jam_operasional_harga_tiket_umbul_jumprit', 'jam_operasional_harga_tiket_umbul_ngabean', 'jam_operasional_harga_tiket_umbul_pengging', 'jam_operasional_harga_tiket_umbul_ponggok', 'jam_operasional_harga_tiket_umbul_sidomukti', 'jam_operasional_harga_tiket_umbul_tirto_mulyo', 'jam_operasional_harga_tiket_umbul_tlatar', 'jam_operasional_harga_tiket_via_ferrata', 'jam_operasional_harga_tiket_vihara_sadagiri', 'jam_operasional_harga_tiket_waduk_bade', 'jam_operasional_harga_tiket_waduk_cengklik', 'jam_operasional_harga_tiket_waduk_gajah_mungkur', 'jam_operasional_harga_tiket_waduk_greneng', 'jam_operasional_harga_tiket_waduk_gunung_rowo', 'jam_operasional_harga_tiket_waduk_jatibarang', 'jam_operasional_harga_tiket_waduk_kedung_ombo', 'jam_operasional_harga_tiket_waduk_kedungombo', 'jam_operasional_harga_tiket_waduk_mrica', 'jam_operasional_harga_tiket_waduk_mulur', 'jam_operasional_harga_tiket_waduk_tempuran', 'jam_operasional_harga_tiket_waduk_wadaslintang', 'jam_operasional_harga_tiket_wana_wisata_kartini_mantingan', 'jam_operasional_harga_tiket_wana_wisata_pijar_park', 'jam_operasional_harga_tiket_warung_dhuwur_blora', 'jam_operasional_harga_tiket_water_splash_taman_sarbini', 'jam_operasional_harga_tiket_watu_cenik', 'jam_operasional_harga_tiket_watu_gajah_park', 'jam_operasional_harga_tiket_watu_ireng', 'jam_operasional_harga_tiket_wisata_bahari_ppnp', 'jam_operasional_harga_tiket_wisata_girpasang', 'jam_operasional_harga_tiket_wisata_gunung_nganten', 'jam_operasional_harga_tiket_wisata_kopi_bowongso', 'jam_operasional_harga_tiket_wisata_religi_nyatnyono', 'jam_operasional_harga_tiket_zatobay_waterbom', 'jam_operasional_pemandian_muncul', 'kontak_agrowisata_pagilaran', 'kontak_agrowisata_selopajang_timur', 'kontak_air_terjun_girimanik', 'kontak_air_terjun_parang_ijo', 'kontak_arena_edukasi_intan_pari', 'kontak_bahari_waterpark', 'kontak_bale_rantjah_park', 'kontak_bandar_ecopark', 'kontak_batu_seribu', 'kontak_bukit_mongkrang', 'kontak_bukit_pentuk', 'kontak_bukit_sanjaya', 'kontak_bukit_sepikul', 'kontak_bukit_siduguro', 'kontak_candi_cetho', 'kontak_candi_merak', 'kontak_candi_plaosan', 'kontak_candi_prambanan', 'kontak_candi_sari', 'kontak_candi_sewu', 'kontak_candi_sojiwan', 'kontak_candi_sukuh', 'kontak_coasari_river_tubing', 'kontak_curug_krajan', 'kontak_de_Tjolomadoe', 'kontak_deles_indah', 'kontak_desa_wisata_jarum', 'kontak_desa_wisata_kebondalem', 'kontak_ganesha_sendang_salju', 'kontak_gedung_kavalere-attilerie', 'kontak_gedung_lembu_sora', 'kontak_gladag_langen_bogan', 'kontak_goa_putri_kencono', 'kontak_grand_sondokoro', 'kontak_grojogan_jumog', 'kontak_grojogan_sewu', 'kontak_hutan_magrove_jembatan_merah', 'kontak_jombor_permai', 'kontak_kahyangan', 'kontak_kampung_batik_weradesa', 'kontak_kampung_kepuhsari', 'kontak_karangsrity', 'kontak_kebun_raya_indrakilo', 'kontak_kembanglangit_park', 'kontak_keraton_kartasura', 'kontak_klenteng_cu_an_kiong', 'kontak_klenteng_gie_yong_bio', 'kontak_klenteng_mak_co_karanggeneng', 'kontak_klenteng_tek_hak_kiong', 'kontak_kolam_renang_doeng_coe', 'kontak_kolam_renang_kartika', 'kontak_krl_jogja-solo', 'kontak_lawang_sewu', 'kontak_lawu_park', 'kontak_lembah_gunung_madu', 'kontak_makam_RA_Kartini', 'kontak_makam_ronggowarsito', 'kontak_makam_sunan_bayat_ki_ageng_pandanaran', 'kontak_masjid_agung_rembang', 'kontak_masjid_al_wustho', \"kontak_masjid_jami'_lasem\", 'kontak_mata_air_cokro', 'kontak_monumen_tiga_menara', 'kontak_museum_R.Hamung_wardoyo', 'kontak_museum_batik_danar_hadi', 'kontak_museum_gula_gondang', 'kontak_museum_karst_indonesia', 'kontak_museum_kartini', 'kontak_museum_keris_nusantara', 'kontak_museum_klaster_bukuran', 'kontak_museum_klaster_manyarejo', 'kontak_museum_klaster_ngebung', 'kontak_museum_pers_nasional', 'kontak_museum_purbakala_dayu', 'kontak_museum_radyapustaka', 'kontak_ndayu_park', 'kontak_pandansari_river_tubing', 'kontak_pandawa_water_world', 'kontak_pantai_alam_indah', 'kontak_pantai_caruban', 'kontak_pantai_celong', 'kontak_pantai_jodo', 'kontak_pantai_muarareja_indah', 'kontak_pantai_nampu', 'kontak_pantai_parangjahe', 'kontak_pantai_pasir_putih_wates', 'kontak_pantai_pulau_kodok', 'kontak_pantai_sembukan', 'kontak_pantai_sigandu', 'kontak_pantai_ujungnegoro', 'kontak_paralayang_kemuning', 'kontak_pasar_antik_triwindu', 'kontak_pasar_bahulak', 'kontak_pasar_malam_ngarsopuro', 'kontak_patitie', 'kontak_pemandian_air_panas_bayanan', 'kontak_pemandian_air_panas_sangubanyu', 'kontak_pendakian_merapi_selo', 'kontak_pendakian_merbabu_selo', 'kontak_perkebunan_teh_kemuning', 'kontak_petilasan_keraton_kerajaan_pajang', 'kontak_puncak_gunung_lawu', 'kontak_pura_indra_prasta', 'kontak_pura_mangkunegaran', 'kontak_rita_park', 'kontak_rowojombor', 'kontak_rumah_atsiri_indonesia', 'kontak_safari_beach_jateng', 'kontak_sapta_tirta_pablengan', 'kontak_sendang_sinongko', 'kontak_sendang_siwani', 'kontak_sepur_kluthuk_jalarada', 'kontak_sikembang_park', 'kontak_simpang_pakubuwonoVI_selo', 'kontak_simpang_siaga', 'kontak_situs_manusia_purba_sangiran', 'kontak_sungai_welo', 'kontak_taman_balekambang', 'kontak_taman_bengkelung', 'kontak_taman_budaya_dan_rekreasi_kramat', 'kontak_taman_doa_ngrawoh', 'kontak_taman_satwa_taru_jurug', 'kontak_tawangmangu_wonder_park', 'kontak_telaga_biru', 'kontak_telaga_claket', 'kontak_the_heritage_palace', 'kontak_umbul_ngabean', 'kontak_umbul_pengging', 'kontak_umbul_ponggok', 'kontak_umbul_tirto_mulyo', 'kontak_umbul_tlatar', 'kontak_waduk_bade', 'kontak_waduk_cengklik', 'kontak_waduk_gajah_mungkur', 'kontak_waduk_kedung_ombo', 'kontak_waduk_kedungombo', 'kontak_waduk_mulur', 'kontak_wana_wisata_kartini_mantingan', 'kontak_watu_cenik', 'kontak_watu_ireng', 'kontak_wisata_girpasang', 'kontak_wisata_gunung_nganten']\n",
            "1225 unique stemmed words: ['&', \"'\", '(', ')', ',', '1', '1.', '10', '10.', '11', '11.', '12', '12.', '13', '13.', '14', '14.', '15', '15.', '16', '16.', '17', '17.', '18', '18.', '19', '19.', '1912', '2', '2.', '20', '20.', '21', '22', '23', '24', '25', '26', '27', '28', '29', '3', '3.', '30', '4', '4.', '5', '5.', '6', '6.', '7', '7.', '8', '8.', '9', '9.', 'abadi', 'abdul', 'ada', 'adiluhur', 'adventur', 'afternoon', 'ageng', 'agrowisata', 'agung', 'air', 'aja', 'aji', 'al', 'alam', 'alamat', 'almuttaqin', 'alun-alun', 'ambarawa', 'an', 'and', 'andhang', 'anggrung', 'angin', 'angkasa', 'antik', 'apa', 'apakah', 'api', 'arena', 'argo', 'arjuna', 'artventur', 'arum', 'asemdoyong', 'asemdoyongberapa', 'asri', 'atha', 'atsiri', 'avalokitesvara', 'ayah', 'ayodya', 'babakan', 'bade', 'bagaimana', 'bagelen', 'bahari', 'bahasa', 'bahulak', 'bale', 'balekambang', 'balong', 'banaran', 'bandar', 'bandengan', 'bandungan', 'banjarnegara', 'bank', 'banyuma', 'barat', 'barong', 'baru', 'batang', 'batik', 'batu', 'baturraden', 'bay', 'bayan', 'bayanan', 'bayat', 'beach', 'bedakah', 'bedug', 'bedugul', 'bengkawah', 'bengkawahberapa', 'bengkelung', 'benteng', 'berada', 'berapa', 'besar', 'bhakti', 'bhaktisia', 'bidadari', 'bima', 'binangun', 'binanguna', 'bio', 'biru', 'bisa', 'bleder', 'blederberapa', 'bledug', 'blenduk', 'bloombang', 'blora', 'bloraberapa', 'bluron', 'bluronberapa', 'bogan', 'bolodewo', 'bolong', 'borobudur', 'borobudurberapa', 'bowongso', 'boyolali', 'bpk', 'brebe', 'bri', 'bro', 'buah', 'buaran', 'budaya', 'buka', 'bukapantai', 'buken', 'bukit', 'bukuran', 'bumi', 'bumiberapa', 'bumiputera', 'bunga', 'buritan', 'cacaban', 'caff', 'cagar', 'cahaya', 'camera', 'camp', 'candi', 'candidukuh', 'candradimuka', 'canyon', 'caruban', 'ceheng', 'celong', 'celosia', 'cengklik', 'cenik', 'cetho', 'cheng', 'cilacap', 'cimori', 'cingkrong', 'cinta', 'cipana', 'cipari', 'cipendok', 'claket', 'clirit', 'club', 'co', 'coasari', 'coe', 'cokro', 'convent', 'countri', 'cu', 'culinari', 'curug', 'curugjeglong', 'curugkaliurip', 'curuglaw', 'curugsemawur', 'curugsemirang', 'curugsewu', \"d'emmerick\", \"d'qiano\", 'dagi', 'dagiberapa', 'dan', 'danar', 'danau', 'danoa', 'danuwo', 'dayu', 'de', 'debal', 'dele', 'depo', 'der', 'deroduwur', 'desa', 'desawisata', 'destinasi', 'dewaruci', 'dhuwur', 'di', 'diair', 'diapi', 'diayodya', 'dibal', 'dibandungan', 'dibanjarnegara', 'dibanyuma', 'dibatang', 'dibenteng', 'dibledug', 'diblora', 'diboyolali', 'dibreb', 'dibukit', 'dicandi', 'dicandidukuh', 'dicelosia', 'dicilacap', 'dicimori', 'dicurug', 'dicurugjeglong', 'dicurugkaliurip', 'dicuruglaw', 'dicurugsemawur', 'dicurugsemirang', 'dicurugsewu', 'didanau', 'didanuwo', 'dide', 'didebal', 'didesa', 'didesawisata', 'didjowo', 'didusun', 'didusunsemilir', 'dieng', 'digapura', 'digedong', 'digereja', 'digerejablenduk', 'digoa', 'digoakreo', 'digong', 'digrand', 'digrandmaerakaca', 'digrobogan', 'dihubungi', 'dihutan', 'dijalan', 'dijembatan', 'dijepara', 'dijolgo', 'dikab', 'dikabupaten', 'dikaca', 'dikampoeng', 'dikampung', 'dikaranganyar', 'dikarimun', 'dikawasan', 'dikebumen', 'dikend', 'dikhatulistiwa', 'diklaten', 'diklenteng', 'dikopeng', 'dikota', 'dikotalama', 'dikudu', 'dikura', 'dikura-kura', 'dilawang', 'dilawangsewu', 'dilerep', 'dimagelang', 'dimakam', 'dimana', 'dimasjid', 'dimasjidbesar', 'dimedini', 'dimuseum', 'dimuseumranggawarsita', 'diomah', 'dipagoda', 'dipagodaavalokitesvara', 'dipalagan', 'dipantai', 'dipantaimarina', 'dipati', 'dipekalongan', 'dipemalang', 'dipemandian', 'diplantera', 'diponegoro', 'dipulau', 'dipura', 'dipuragiri', 'dipurbalingga', 'dipuri', 'dipurworejo', 'dirembang', 'disalatiga', 'disemarang', 'disemarangzoo', 'disibajag', 'disimpang', 'disimpanglima', 'disitu', 'diskiban', 'disragen', 'disukoharjo', 'disurakarta', 'ditaman', 'diteg', 'ditemanggung', 'dith', 'ditirta', 'ditirto', 'ditugu', 'ditugumuda', 'diumbul', 'diumbulsidomukti', 'diungaran', 'diwaduk', 'diwadukjatibarang', 'diwana', 'diwatu', 'diwisata', 'diwonogiri', 'diwonosobo', 'djien', 'djowo', 'doa', 'doeng', 'dr.', 'dream', 'dsimpanglima', 'dukuh', 'dusun', 'dusunsemilir', 'dwarawati', 'e', 'eco', 'ecopark', 'edukasi', 'edukatif', 'edukatifberapa', 'edupark', 'embung', 'empu', 'erorejo', 'farmland', 'ferrata', 'forest', 'fossil', 'fountain', 'gajah', 'gajahberapa', 'ganesha', 'gapura', 'garden', 'gardu', 'gatotkaca', 'gedong', 'gedung', 'geger', 'gemantung', 'gentansari', 'gereja', 'gerejablenduk', 'germanggi', 'gie', 'giri', 'girimanik', 'girinatha', 'giritirta', 'girpasang', 'giyanti', 'gladag', 'goa', 'goakreo', 'golf', 'gombong', 'gondang', 'gondok', 'gong', 'grand', 'grandmaerakaca', 'green', 'greneng', 'grenengberapa', 'grenjengan', 'griya', 'grobogan', 'grojogan', 'ground', 'gubug', 'guci', 'gula', 'gulingan', 'gumelem', 'gumuk', 'gunung', 'gupakan', 'gupakanberapa', 'h.', 'hadi', 'hai', 'hak', 'hallo', 'halo', 'hamong', 'harga', 'hari', 'hei', 'heritag', 'hi', 'hian', 'highland', 'highlandberapa', 'hill', 'ho', 'hok', 'hong', 'hot', 'hotel', 'hous', 'houseberapa', 'htm', 'husada', 'hutan', 'hy', 'identita', 'ijo', 'indah', 'indonesia', 'indra', 'indrakilo', 'intan', 'internasion', 'ireng', 'itu', 'jahe', 'jalan', 'jalarada', 'jalatunda', 'jalil', 'jam', 'jami', 'jamu', 'jarum', 'jateng', 'jati', 'jatibarang', 'jatiberapa', 'jatijajar', 'jatimalang', 'java', 'jawa', 'jawatengah', 'jawatengahng', 'jeglong', 'jembangan', 'jembatan', 'jenang', 'jendral', 'jepang', 'jepara', 'jero', 'jeroberapa', 'jetayu', 'jeti', 'jodo', 'jogja-solo', 'joko', 'jolgo', 'jollong', 'jombor', 'jumog', 'jumprit', 'junkyard', 'junkyardberapa', 'jurang', 'jurug', 'kab', 'kab.banyuma', 'kab.cilacap', 'kabupaten', 'kabupatenbreb', 'kaca', 'kahyangan', 'kailasa', 'kak', 'kaksi', 'kali', 'kalianget', 'kalibacin', 'kalibakung', 'kalibakungkab', 'kalibakungkabupaten', 'kalibaya', 'kaligua', 'kalikarang', 'kalilo', 'kaliori', 'kalitaman', 'kaliurip', 'kaliwungu', 'kamar', 'kampoeng', 'kampong', 'kampung', 'kandri', 'kapal', 'kapan', 'karang', 'karanganyar', 'karanggeneng', 'karangjah', 'karangsr', 'karimun', 'karst', 'kartasura', 'kartika', 'kartini', 'kauman', 'kavalere-attileri', 'kawah', 'kawan', 'kawasan', 'kayana', 'kayang', 'kayangberapa', 'ke', 'kebon', 'kebondalem', 'kebumen', 'kebun', 'kecil', 'kedung', 'kedungombo', 'kemambang', 'kemantren', 'kembanglangit', 'kembar', 'kemit', 'kemun', 'kencana', 'kencono', 'kendal', 'kepuhsari', 'kerajaan', 'keramik', 'keraton', 'kerep', 'kereta', 'keri', 'kertomulyo', 'kesehatan', 'ketapang', 'ketawang', 'ketep', 'khatulistiwa', 'ki', 'kilomet', 'kiong', 'kiskendo', 'klaster', 'klaten', 'kledung', 'klenteng', 'klentengsam', 'klentengsampoo', 'klentengsampookong', 'klentengtay', 'klentengtaykak', 'klentengtaykaksi', 'kluthuk', 'kmasjidagungjawatengah', 'kodok', 'kolam', 'komplek', 'kong', 'kopeng', 'kopi', 'kota', 'kotalama', 'kragilan', 'kragilanberapa', 'krajan', 'krakal', 'kramat', 'kreo', 'kretek', 'krida', 'krl', 'ktaman', 'kubangkangkung', 'kudu', 'kumandang', 'kuno', 'kura', 'kura-kura', 'kuwu', 'lahir', 'lama', 'land', 'langen', 'langgeng', 'langit', 'langitberapa', 'lasem', 'law', 'lawa', 'lawang', 'lawangsewu', 'lawu', 'lazuardi', 'lembah', 'lembu', 'lereng', 'lerep', 'lerepberapa', 'letak', 'lima', 'limpakuwu', 'ling', 'liong', 'liyangan', 'lmakam', 'loano', 'logend', 'lokasi', 'lokawisata', 'lor', 'loran', 'lubang', 'lukar', 'ma', 'macan', 'madu', 'maduberapa', 'maerakaca', 'maerakacaka', 'magelang', 'magelangberapa', 'magrov', 'mak', 'makam', 'malahayu', 'malam', 'mana', 'mandala', 'mandalabhakti', 'mandiraja', 'mandirajaberapa', 'mangarov', 'mangkunegaran', 'mangrov', 'mangunan', 'mantingan', 'manusia', 'manyarejo', 'maria', 'marina', 'martha', 'masjid', 'masjidagung', 'masjidagungjawatengah', 'masjidbesar', 'masuk', 'mata', 'mau', 'mc', 'medini', 'menara', 'mendaki', 'mendelem', 'mendelemberapa', 'mendut', 'mendutberapa', 'menganti', 'menjangan', 'menjer', 'merah', 'merak', 'merapi', 'merbabu', 'merbabuberapa', 'merdada', 'meteorit', 'mina', 'misi', 'moga', 'mogaberapa', 'mongkrang', 'montel', 'monumen', 'morn', 'mrapen', 'mrica', 'muara', 'muarareja', 'muda', 'mudal', 'muhammad', 'mulur', 'mulyo', 'muncar', 'muncul', 'mungkur', 'muntilan', 'muria', 'museum', 'museumberapa', 'museumranggawarsita', 'muttaqin', 'mystica', 'nampu', 'nana', 'nangga', 'nasion', 'natha', 'ndayu', 'ndelik', 'ngabean', 'nganten', 'ngargoretno', 'ngargoretnoberapa', 'ngarsopuro', 'ngawen', 'ngawenberapa', 'ngebung', 'ngerang', 'ngrawoh', 'nol', 'nomor', 'nusakambangan', 'nusantara', 'nyai', 'nyatnyono', 'ocean', 'ohd', 'omah', 'ombo', 'on', 'opa', 'operasion', 'ourland', 'outbound', 'owabong', 'pablengan', 'pagi', 'pagilaran', 'pagoda', 'pagodaavalokitesvara', 'pajang', 'paki', 'pakubuwono', 'palac', 'palagan', 'palawi', 'pana', 'pancasila', 'pancuran', 'pandan', 'pandanaran', 'pandanberapa', 'pandang', 'pandanrejo', 'pandansari', 'pandawa', 'pangonan', 'pangrenan', 'panjang', 'pantai', 'pantaimarina', 'paradis', 'paralayang', 'parang', 'pari', 'pariwisata', 'park', 'pasar', 'pasir', 'pass', 'passberapa', 'pati', 'patiayam', 'patiti', 'pawon', 'pawonberapa', 'payau', 'payung', 'pecaron', 'pekalongan', 'pemalang', 'pemalangberapa', 'pemali', 'pemandian', 'pemukiman', 'pencu', 'pencuberapa', 'pendakian', 'pendem', 'pendowo', 'pene', 'peng', 'pengabdian', 'penjalin', 'pentuk', 'pentulu', 'penyu', 'per', 'perdamaian', 'pereng', 'periwisata', 'perkebunan', 'permai', 'pesona', 'petanahan', 'petilasan', 'petruk', 'pijar', 'pijarberapa', 'pijardi', 'pijardimana', 'piji', 'pika', 'pikatan', 'pingit', 'pinu', 'pinusan', 'pitu', 'plantat', 'plantera', 'plaosan', 'plateu', 'pletuk', 'plumpungan', 'poerbakawatja', 'ponggok', 'poo', 'pookong', 'portugi', 'posong', 'ppnp', 'prambanan', 'prasasti', 'prasta', 'prau', 'pringapu', 'prof.', 'progo', 'projo', 'psitu', 'pulau', 'puncak', 'punthuk', 'pura', 'puragiri', 'purana', 'purba', 'purbakala', 'purbalingga', 'purbasari', 'puri', 'purwahamba', 'purwodadi', 'purwokerto', 'purworejo', 'putih', 'putri', 'r.', 'ra', 'raden', 'radensaleh', 'radyapustaka', 'raft', 'rahtawu', 'rainbow', 'raksa', 'raksaberapa', 'rakyat', 'rancah', 'rancak', 'randusanga', 'ranggawarsita', 'ranjeng', 'rantjah', 'ratapan', 'rawa', 'rawapen', 'raya', 'reco', 'rekor', 'rekorindonesia', 'rekreasi', 'religi', 'rembang', 'renang', 'replika', 'resort', 'resto', 'rhema', 'rhemaberapa', 'ri', 'rita', 'river', 'rodjo', 'roemah', 'rohani', 'ronggowarsito', 'rosa', 'rowo', 'rowojombor', 'rumah', 'sadagiri', 'safari', 'saja', 'saka', 'salatiga', 'saleh', 'salib', 'salju', 'sam', 'sampoo', 'sampookong', 'samudra', 'sanggaluri', 'sangiran', 'sangubanyu', 'sanjaya', 'santren', 'sapta', 'sarbini', 'sarbiniberapa', 'sari', 'satwa', 'scooter', 'sekar', 'sekatul', 'selfi', 'selo', 'selogriyo', 'selogriyoberapa', 'selok', 'selopajang', 'seloprojo', 'seloprojoberapa', 'semarang', 'semarangzoo', 'semawur', 'sembukan', 'semedo', 'semilir', 'semirang', 'sempor', 'sendang', 'sendangsari', 'sentono', 'sepikul', 'seplawan', 'sepur', 'seribu', 'serul', 'setumbu', 'setumbuberapa', 'sewiwi', 'sewu', 'si', 'siaga', 'siang', 'siangberapa', 'siangdi', 'siangdimana', 'sibajag', 'sibedil', 'sibedilberapa', 'sidandang', 'sidoguro', 'sidok', 'sidomukti', 'sie', 'sigandu', 'sih', 'sihwisata', 'sikarim', 'sikembang', 'sikepel', 'sikidang', 'siklotok', 'sikunir', 'silancur', 'silangit', 'silaw', 'silaweberapa', 'sileri', 'simpang', 'simpanglima', 'sindoro', 'singkil', 'sinongko', 'sinsu', 'sirah', 'siraw', 'siregol', 'situ', 'siwani', 'siwarak', 'skiban', 'slamaran', 'slamet', 'small', 'sodong', 'soedarman', 'soedirman', 'soegarda', 'soesilo', 'sojiwan', 'solo', 'sondokoro', 'songgolangit', 'songo', 'songodi', 'songoo', 'sora', 'sore', 'splash', 'spring', 'sragen', 'suci', 'sudirman', 'sukan', 'sukoharjo', 'sukuh', 'sumb', 'sumur', 'sunan', 'sungai', 'sunyi', 'surakarta', 'surumani', 'surya', 'suwuk', 'svarga', 'tahu', 'taman', 'tamanbudaya', 'tamanbudayaraden', 'tamanbudayaradensaleh', 'tambi', 'tanalum', 'tangkeban', 'tangkebanberapa', 'tarif', 'taru', 'taruna', 'tater', 'tau', 'tawangmangu', 'tay', 'taykak', 'taykaksi', 'tea', 'tee', 'tegal', 'tegalan', 'teh', 'teja', 'tek', 'telaga', 'teletubbi', 'teluk', 'temanggung', 'tempat', 'templ', 'tempur', 'tempuran', 'tengah', 'teratai', 'terawang', 'terjun', 'terjung', 'thank', 'thankyou', 'the', 'theater', 'thian', 'thitang', 'tidar', 'tieng', 'tiga', 'tik', 'tikako', 'tiket', 'tiketwana', 'tilaar', 'timur', 'tingkir', 'tingkirberapa', 'tinjomoyo', 'tiongkok', 'tirta', 'tirtahusada', 'tirto', 'tirtonadi', 'titik', 'tjolomado', 'tlatar', 'tosan', 'triwindu', 'trocoh', 'tube', 'tugu', 'tugumuda', 'tujuh', 'tuk', 'tunggal', 'tunggulsari', 'tutup', 'ujungnegoro', 'umbul', 'umbulberapa', 'umbulsidomukti', 'ungaran', 'untuk', 'valley', 'van', 'vi', 'via', 'view', 'vihara', 'villag', 'voc', 'wadaslintang', 'waduk', 'wadukjatibarang', 'walik', 'waliti', 'wana', 'wanasuta', 'wardoyo', 'warna', 'warung', 'wate', 'water', 'waterboom', 'waterboomberapa', 'waterpark', 'watu', 'wayang', 'welo', 'weradesa', 'wetan', 'widarapayung', 'widayat', 'widayatberapa', 'widuri', 'widuriberapa', 'wijck', 'winduaji', 'winong', 'wisata', 'wisatakandri', 'wisatawonolopo', 'wonder', 'wonogiri', 'wonolopo', 'wonosobo', 'world', 'wulan', 'wustho', 'ya', 'yah', 'yang', 'yong', 'you', 'yudha', 'zatobay', 'ziarah', 'zoo']\n"
          ]
        }
      ],
      "source": [
        "# stem and lower each word\n",
        "ignore_words = ['?', '.', '!']\n",
        "all_words = [stem(w) for w in all_words if w not in ignore_words]\n",
        "# remove duplicates and sort\n",
        "all_words = sorted(set(all_words))\n",
        "tags = sorted(set(tags))\n",
        "\n",
        "print(len(xy), \"patterns\")\n",
        "print(len(tags), \"tags:\", tags)\n",
        "print(len(all_words), \"unique stemmed words:\", all_words)"
      ]
    },
    {
      "cell_type": "markdown",
      "metadata": {
        "id": "85R6e6EYPb8R"
      },
      "source": [
        "###Creating Training Data"
      ]
    },
    {
      "cell_type": "code",
      "execution_count": 24,
      "metadata": {
        "id": "9W9QX5UoPZkZ"
      },
      "outputs": [],
      "source": [
        "# create training data\n",
        "X_train = []\n",
        "y_train = []\n",
        "for (pattern_sentence, tag) in xy:\n",
        "    # X: bag of words for each pattern_sentence\n",
        "    bag = bag_of_words(pattern_sentence, all_words)\n",
        "    X_train.append(bag)\n",
        "    # y: PyTorch CrossEntropyLoss needs only class labels, not one-hot\n",
        "    label = tags.index(tag)\n",
        "    y_train.append(label)\n",
        "\n",
        "X_train = np.array(X_train)\n",
        "y_train = np.array(y_train)"
      ]
    },
    {
      "cell_type": "markdown",
      "metadata": {
        "id": "2TJ6ldSiPtvy"
      },
      "source": [
        "##PyTorch Model\n",
        "\n",
        "---\n",
        "Here we will be making a class to implement our custom neural network. It will be a feed forward neural Network which will have 3 Linear Layers and we will be using activation function “ReLU” .\n",
        "- **Note:** \n",
        "We have used the super() function to inherit the properties of its parent class. \n",
        "This is an Object Oriented Programming (OOP) concept."
      ]
    },
    {
      "cell_type": "markdown",
      "metadata": {
        "id": "T9lSPNQHP3wI"
      },
      "source": [
        "###Creating our Model"
      ]
    },
    {
      "cell_type": "code",
      "execution_count": 25,
      "metadata": {
        "id": "qWsxIgQRPfiK"
      },
      "outputs": [],
      "source": [
        "class NeuralNet(nn.Module):\n",
        "    def __init__(self, input_size, hidden_size, num_classes):\n",
        "        super(NeuralNet, self).__init__()\n",
        "        self.l1 = nn.Linear(input_size, hidden_size) \n",
        "        self.l2 = nn.Linear(hidden_size, hidden_size) \n",
        "        self.l3 = nn.Linear(hidden_size, num_classes)\n",
        "        self.relu = nn.ReLU()\n",
        "    \n",
        "    def forward(self, x):\n",
        "        out = self.l1(x)\n",
        "        out = self.relu(out)\n",
        "        out = self.l2(out)\n",
        "        out = self.relu(out)\n",
        "        out = self.l3(out)\n",
        "        # no activation and no softmax at the end\n",
        "        return out"
      ]
    },
    {
      "cell_type": "markdown",
      "metadata": {
        "id": "7tSkl73UP-tw"
      },
      "source": [
        "Here we have inherited a class from NN.Module because we will be customizing the model & its layers"
      ]
    },
    {
      "cell_type": "markdown",
      "metadata": {
        "id": "q3brEXToQAhI"
      },
      "source": [
        "###Assigning the Dataset to the Model\n",
        "- We will use some Magic functions, write our class.\n",
        "- You can read online about __getitem__ and __getitem__ magic funtions."
      ]
    },
    {
      "cell_type": "code",
      "execution_count": 26,
      "metadata": {
        "id": "7kka8ULzP9xR"
      },
      "outputs": [],
      "source": [
        "class ChatDataset(Dataset):\n",
        "\n",
        "    def __init__(self):\n",
        "        self.n_samples = len(X_train)\n",
        "        self.x_data = X_train\n",
        "        self.y_data = y_train\n",
        "\n",
        "    # support indexing such that dataset[i] can be used to get i-th sample\n",
        "    def __getitem__(self, index):\n",
        "        return self.x_data[index], self.y_data[index]\n",
        "\n",
        "    # we can call len(dataset) to return the size\n",
        "    def __len__(self):\n",
        "        return self.n_samples"
      ]
    },
    {
      "cell_type": "markdown",
      "metadata": {
        "id": "1k749T-SQM4A"
      },
      "source": [
        "###Hyper Parameters\n",
        "- Every Neural network has a set of hyper parameters that need to be set before use.\n",
        "- Before Instantiating our Neural Net Class or Model that we wrote earlier, we will first define some hyper parameters which can be changed accordingly."
      ]
    },
    {
      "cell_type": "code",
      "execution_count": 27,
      "metadata": {
        "colab": {
          "base_uri": "https://localhost:8080/"
        },
        "id": "vQ002UK3QH8s",
        "outputId": "ca52438a-aea2-44ed-abad-960b7a82f9a6"
      },
      "outputs": [
        {
          "name": "stdout",
          "output_type": "stream",
          "text": [
            "1225 1720\n"
          ]
        }
      ],
      "source": [
        "# Hyper-parameters \n",
        "num_epochs = 200\n",
        "batch_size = 8\n",
        "learning_rate = 0.001\n",
        "input_size = len(X_train[0])\n",
        "hidden_size = 8\n",
        "output_size = len(tags)\n",
        "print(input_size, output_size)"
      ]
    },
    {
      "cell_type": "markdown",
      "metadata": {
        "id": "8GAwlnnQQTg3"
      },
      "source": [
        "###Loss and Optimizer\n",
        "- We will now Instantiate the model, loss and optimizer functions.\n",
        "- Loss Function: Cross Entropy \n",
        "- Optimizer: Adam Optimizer"
      ]
    },
    {
      "cell_type": "code",
      "execution_count": 28,
      "metadata": {
        "id": "xLvAlLBVQJRq"
      },
      "outputs": [],
      "source": [
        "dataset = ChatDataset()\n",
        "train_loader = DataLoader(dataset=dataset,\n",
        "                          batch_size=batch_size,\n",
        "                          shuffle=True,\n",
        "                          num_workers=0)\n",
        "\n",
        "device = torch.device('cuda' if torch.cuda.is_available() else 'cpu')\n",
        "\n",
        "model = NeuralNet(input_size, hidden_size, output_size).to(device)\n",
        "\n",
        "# Loss and optimizer\n",
        "criterion = nn.CrossEntropyLoss()\n",
        "optimizer = torch.optim.Adam(model.parameters(), lr=learning_rate)"
      ]
    },
    {
      "cell_type": "markdown",
      "metadata": {
        "id": "k0a1MAQhQb-p"
      },
      "source": [
        "###Training the Model"
      ]
    },
    {
      "cell_type": "code",
      "execution_count": 29,
      "metadata": {
        "colab": {
          "base_uri": "https://localhost:8080/"
        },
        "id": "dLh3IPmSjXb_",
        "outputId": "7bec7413-548b-4f51-98b1-1bc8283f9f1f"
      },
      "outputs": [
        {
          "name": "stdout",
          "output_type": "stream",
          "text": [
            "Epoch ke- 1\n",
            "Epoch ke- 2\n",
            "Epoch ke- 3\n",
            "Epoch ke- 4\n",
            "Epoch ke- 5\n",
            "Epoch ke- 6\n",
            "Epoch ke- 7\n",
            "Epoch ke- 8\n",
            "Epoch ke- 9\n",
            "Epoch ke- 10\n",
            "Epoch ke- 11\n",
            "Epoch ke- 12\n",
            "Epoch ke- 13\n",
            "Epoch ke- 14\n",
            "Epoch ke- 15\n",
            "Epoch ke- 16\n",
            "Epoch ke- 17\n",
            "Epoch ke- 18\n",
            "Epoch ke- 19\n",
            "Epoch ke- 20\n",
            "Epoch ke- 21\n",
            "Epoch ke- 22\n",
            "Epoch ke- 23\n",
            "Epoch ke- 24\n",
            "Epoch ke- 25\n",
            "Epoch ke- 26\n",
            "Epoch ke- 27\n",
            "Epoch ke- 28\n",
            "Epoch ke- 29\n",
            "Epoch ke- 30\n",
            "Epoch ke- 31\n",
            "Epoch ke- 32\n",
            "Epoch ke- 33\n",
            "Epoch ke- 34\n",
            "Epoch ke- 35\n",
            "Epoch ke- 36\n",
            "Epoch ke- 37\n",
            "Epoch ke- 38\n",
            "Epoch ke- 39\n",
            "Epoch ke- 40\n",
            "Epoch ke- 41\n",
            "Epoch ke- 42\n",
            "Epoch ke- 43\n",
            "Epoch ke- 44\n",
            "Epoch ke- 45\n",
            "Epoch ke- 46\n",
            "Epoch ke- 47\n",
            "Epoch ke- 48\n",
            "Epoch ke- 49\n",
            "Epoch ke- 50\n",
            "Epoch ke- 51\n",
            "Epoch ke- 52\n",
            "Epoch ke- 53\n",
            "Epoch ke- 54\n",
            "Epoch ke- 55\n",
            "Epoch ke- 56\n",
            "Epoch ke- 57\n",
            "Epoch ke- 58\n",
            "Epoch ke- 59\n",
            "Epoch ke- 60\n",
            "Epoch ke- 61\n",
            "Epoch ke- 62\n",
            "Epoch ke- 63\n",
            "Epoch ke- 64\n",
            "Epoch ke- 65\n",
            "Epoch ke- 66\n",
            "Epoch ke- 67\n",
            "Epoch ke- 68\n",
            "Epoch ke- 69\n",
            "Epoch ke- 70\n",
            "Epoch ke- 71\n",
            "Epoch ke- 72\n",
            "Epoch ke- 73\n",
            "Epoch ke- 74\n",
            "Epoch ke- 75\n",
            "Epoch ke- 76\n",
            "Epoch ke- 77\n",
            "Epoch ke- 78\n",
            "Epoch ke- 79\n",
            "Epoch ke- 80\n",
            "Epoch ke- 81\n",
            "Epoch ke- 82\n",
            "Epoch ke- 83\n",
            "Epoch ke- 84\n",
            "Epoch ke- 85\n",
            "Epoch ke- 86\n",
            "Epoch ke- 87\n",
            "Epoch ke- 88\n",
            "Epoch ke- 89\n",
            "Epoch ke- 90\n",
            "Epoch ke- 91\n",
            "Epoch ke- 92\n",
            "Epoch ke- 93\n",
            "Epoch ke- 94\n",
            "Epoch ke- 95\n",
            "Epoch ke- 96\n",
            "Epoch ke- 97\n",
            "Epoch ke- 98\n",
            "Epoch ke- 99\n",
            "Epoch ke- 100\n",
            "Epoch ke- 101\n",
            "Epoch ke- 102\n",
            "Epoch ke- 103\n",
            "Epoch ke- 104\n",
            "Epoch ke- 105\n",
            "Epoch ke- 106\n",
            "Epoch ke- 107\n",
            "Epoch ke- 108\n",
            "Epoch ke- 109\n",
            "Epoch ke- 110\n",
            "Epoch ke- 111\n",
            "Epoch ke- 112\n",
            "Epoch ke- 113\n",
            "Epoch ke- 114\n",
            "Epoch ke- 115\n",
            "Epoch ke- 116\n",
            "Epoch ke- 117\n",
            "Epoch ke- 118\n",
            "Epoch ke- 119\n",
            "Epoch ke- 120\n",
            "Epoch ke- 121\n",
            "Epoch ke- 122\n",
            "Epoch ke- 123\n",
            "Epoch ke- 124\n",
            "Epoch ke- 125\n",
            "Epoch ke- 126\n",
            "Epoch ke- 127\n",
            "Epoch ke- 128\n",
            "Epoch ke- 129\n",
            "Epoch ke- 130\n",
            "Epoch ke- 131\n",
            "Epoch ke- 132\n",
            "Epoch ke- 133\n",
            "Epoch ke- 134\n",
            "Epoch ke- 135\n",
            "Epoch ke- 136\n",
            "Epoch ke- 137\n",
            "Epoch ke- 138\n",
            "Epoch ke- 139\n",
            "Epoch ke- 140\n",
            "Epoch ke- 141\n",
            "Epoch ke- 142\n",
            "Epoch ke- 143\n",
            "Epoch ke- 144\n",
            "Epoch ke- 145\n",
            "Epoch ke- 146\n",
            "Epoch ke- 147\n",
            "Epoch ke- 148\n",
            "Epoch ke- 149\n",
            "Epoch ke- 150\n",
            "Epoch ke- 151\n",
            "Epoch ke- 152\n",
            "Epoch ke- 153\n",
            "Epoch ke- 154\n",
            "Epoch ke- 155\n",
            "Epoch ke- 156\n",
            "Epoch ke- 157\n",
            "Epoch ke- 158\n",
            "Epoch ke- 159\n",
            "Epoch ke- 160\n",
            "Epoch ke- 161\n",
            "Epoch ke- 162\n",
            "Epoch ke- 163\n",
            "Epoch ke- 164\n",
            "Epoch ke- 165\n",
            "Epoch ke- 166\n",
            "Epoch ke- 167\n",
            "Epoch ke- 168\n",
            "Epoch ke- 169\n",
            "Epoch ke- 170\n",
            "Epoch ke- 171\n",
            "Epoch ke- 172\n",
            "Epoch ke- 173\n",
            "Epoch ke- 174\n",
            "Epoch ke- 175\n",
            "Epoch ke- 176\n",
            "Epoch ke- 177\n",
            "Epoch ke- 178\n",
            "Epoch ke- 179\n",
            "Epoch ke- 180\n",
            "Epoch ke- 181\n",
            "Epoch ke- 182\n",
            "Epoch ke- 183\n",
            "Epoch ke- 184\n",
            "Epoch ke- 185\n",
            "Epoch ke- 186\n",
            "Epoch ke- 187\n",
            "Epoch ke- 188\n",
            "Epoch ke- 189\n",
            "Epoch ke- 190\n",
            "Epoch ke- 191\n",
            "Epoch ke- 192\n",
            "Epoch ke- 193\n",
            "Epoch ke- 194\n",
            "Epoch ke- 195\n",
            "Epoch ke- 196\n",
            "Epoch ke- 197\n",
            "Epoch ke- 198\n",
            "Epoch ke- 199\n",
            "Epoch ke- 200\n",
            "Epoch [200/200], Loss : 0.00, Acc: 98.09\n"
          ]
        }
      ],
      "source": [
        "for epoch in range(num_epochs):\n",
        "  print(\"Epoch ke-\", epoch+1)\n",
        "  #Calculate Accuracy (stack tutorial no n_total)\n",
        "  n_correct = 0\n",
        "  n_total = 0\n",
        "  predicted_labels, ground_truth_labels = [], []\n",
        "\n",
        "  for i, (words, labels) in enumerate(train_loader):\n",
        "    words = words.to(device)\n",
        "    labels = labels.to(dtype=torch.long).to(device)\n",
        "\n",
        "    #forward pass\n",
        "    outputs = model(words)\n",
        "    loss = criterion(outputs, labels)\n",
        "\n",
        "    #backward and optimize\n",
        "    optimizer.zero_grad()\n",
        "    loss.backward()\n",
        "    optimizer.step()\n",
        "\n",
        "    #feedforward tutotial solution\n",
        "    _, predicted = torch.max(outputs, 1)\n",
        "    n_correct += (predicted == labels).sum().item()\n",
        "    n_total += labels.shape[0]\n",
        "\n",
        "    ##appending\n",
        "    predicted_labels.append(predicted.cpu().detach().numpy())\n",
        "    ground_truth_labels.append(labels.cpu().detach().numpy())\n",
        "\n",
        "    accuracy = 100 * n_correct/n_total\n",
        "\n",
        "#push to matplotlib\n",
        "#train_losses.append(loss.item())\n",
        "#train_epochs.append(epoch)\n",
        "#train_acc.append(accuracy)\n",
        "\n",
        "#Loss and Accuracy\n",
        "if (epoch+1) % 10 == 0:\n",
        "  print(f'Epoch [{epoch+1}/{num_epochs}], Loss : {loss.item():.2f}, Acc: {accuracy:.2f}')"
      ]
    },
    {
      "cell_type": "code",
      "execution_count": 30,
      "metadata": {
        "id": "J-x1NxSDz4pg"
      },
      "outputs": [],
      "source": [
        "data = {\n",
        "\"model_state\": model.state_dict(),\n",
        "\"input_size\": input_size,\n",
        "\"hidden_size\": hidden_size,\n",
        "\"output_size\": output_size,\n",
        "\"all_words\": all_words,\n",
        "\"tags\": tags\n",
        "}"
      ]
    },
    {
      "cell_type": "markdown",
      "metadata": {
        "id": "mulcOr3BTESx"
      },
      "source": [
        "###Saving the Trained Model"
      ]
    },
    {
      "cell_type": "code",
      "execution_count": 31,
      "metadata": {
        "colab": {
          "base_uri": "https://localhost:8080/"
        },
        "id": "wyy-Dkg8TGfx",
        "outputId": "3f33b752-8630-4f44-df8e-9452da10bf30"
      },
      "outputs": [
        {
          "name": "stdout",
          "output_type": "stream",
          "text": [
            "training complete. file saved to data.pth\n"
          ]
        }
      ],
      "source": [
        "FILE = \"data.pth\"\n",
        "torch.save(data, FILE)\n",
        "\n",
        "print(f'training complete. file saved to {FILE}')"
      ]
    },
    {
      "cell_type": "markdown",
      "metadata": {
        "id": "o05OyaQSTIsJ"
      },
      "source": [
        "###Loading our Saved Model"
      ]
    },
    {
      "cell_type": "code",
      "execution_count": 32,
      "metadata": {
        "colab": {
          "base_uri": "https://localhost:8080/"
        },
        "id": "V_eWqZlfTHfg",
        "outputId": "3b2a306b-ac8e-4d7e-f4dc-64974b277791"
      },
      "outputs": [
        {
          "data": {
            "text/plain": [
              "NeuralNet(\n",
              "  (l1): Linear(in_features=1225, out_features=8, bias=True)\n",
              "  (l2): Linear(in_features=8, out_features=8, bias=True)\n",
              "  (l3): Linear(in_features=8, out_features=1720, bias=True)\n",
              "  (relu): ReLU()\n",
              ")"
            ]
          },
          "execution_count": 32,
          "metadata": {},
          "output_type": "execute_result"
        }
      ],
      "source": [
        "device = torch.device('cuda' if torch.cuda.is_available() else 'cpu')\n",
        "\n",
        "with open('intents.json', 'r') as json_data:\n",
        "    intents = json.load(json_data)\n",
        "\n",
        "FILE = \"data.pth\"\n",
        "data = torch.load(FILE)\n",
        "\n",
        "input_size = data[\"input_size\"]\n",
        "hidden_size = data[\"hidden_size\"]\n",
        "output_size = data[\"output_size\"]\n",
        "all_words = data['all_words']\n",
        "tags = data['tags']\n",
        "model_state = data[\"model_state\"]\n",
        "\n",
        "model = NeuralNet(input_size, hidden_size, output_size).to(device)\n",
        "model.load_state_dict(model_state)\n",
        "model.eval()"
      ]
    },
    {
      "cell_type": "markdown",
      "metadata": {
        "id": "pUyjTW6tTN_n"
      },
      "source": [
        "###Using the Chatbot"
      ]
    },
    {
      "cell_type": "code",
      "execution_count": 33,
      "metadata": {
        "colab": {
          "base_uri": "https://localhost:8080/"
        },
        "id": "NYfTddfhTLvK",
        "outputId": "409d2800-4b30-4522-9ae3-3bb5713dc50c"
      },
      "outputs": [
        {
          "name": "stdout",
          "output_type": "stream",
          "text": [
            "Mau wisata kemanaa nihh?^^ (type 'bye' to exit)\n",
            "You: hai\n",
            "Jagabota: Hai! ini Jagabota. Kami akan memberikan informasi mengenai tempat wisata, harga tiket, jam operasional, dan alamatnya di Jawa Tengah.\n",
            "Jadi, mau kemana tujuan destinasi kamu?\n",
            "1. Kota Semarang\n",
            "2. Kabupaten Semarang\n",
            "3. Kabupaten Kendal\n",
            "4. Kabupaten Jepara\n",
            "5. Kabupaten Kudus\n",
            "6. Kabupaten Grobogan\n",
            "7. Kabupaten Boyolali\n",
            "8. Kabupaten Batang\n",
            "9. Kabupaten Temanggung\n",
            "10. Kota Magelang\n",
            "11. Kabupaten Magelang\n",
            "12. Kabupaten Pemalang\n",
            "13. Kota Pekalongan\n",
            "14. Kabupaten Pekalongan\n",
            "15. Kabupaten Banjarnegara\n",
            "16. Kabupaten Wonosobo\n",
            "17. Kabupaten Pati\n",
            "18. Kabupaten Blora\n",
            "19. Kabupaten Rembang\n",
            "20. Kabupaten Sragen\n",
            "21. Kabupaten Karanganyar\n",
            "22. Kota Surakarta\n",
            "23. Kabupaten Sukoharjo\n",
            "24. Kabupaten Wonogiri\n",
            "25. Kabupaten Klaten\n",
            "26. Kota Tegal\n",
            "27. Kabupaten Tegal\n",
            "28. Kabupaten Purbalingga\n",
            "29. Kabupaten Purworejo\n",
            "30. Kabupaten Kebumen\n",
            "31. Kabupaten Brebes\n",
            "32. Kabupaten Banyumas\n",
            "33. Kabupaten Cilacap\n",
            "34. Kota Salatiga\n",
            "You: kabupaten cilacap?\n",
            "Jagabota: Cilacap terletak di bagian selatan Jawa Tengah di sebelah Provinsi Jawa Barat. Cilacap merupakan kota industri, dengan pelabuhan dan perdagangan, dan kini sedang berkembang menjadi kota pariwisata. Pengunjung dapat mencapai kota melalui transportasi darat, udara, dan air. Website https://wisata.cilacapkab.go.id/. \n",
            "Tempat wisata di Cilacap ada :\n",
            "1. Pantai Rancah Babakan\n",
            "2. Pantai Ketapang Indah\n",
            "3. Pantai Pasir Putih Nusakambangan\n",
            "4. Pantai Karang Pakis\n",
            "5. Pantai Sodong\n",
            "6. Pantai Jetis Cilacap\n",
            "7. Waduk Kubangkangkung\n",
            "8. Kemit Forest\n",
            "9. Hutan Payau\n",
            "10. Benteng Pendem\n",
            "11. Gunung Selok\n",
            "12. Pantai Indah Widarapayung\n",
            "13. Museum Soesilo Soedarman\n",
            "14. Pemandian Air Panas Cipari\n",
            "15. Pantai Teluk Penyu\n",
            "You: pantai teluk penyu?\n",
            "Jagabota: Pantai ini berseberangan langsung dengan Samudera Hindia. Disebut Pantai Teluk Panyu karena dulu banyak penangkaran penyu di tempat ini. Udara yang sejuk dan tidak terlalu panas membuat tempat ini disukai penyu. Pantai dengan deburan ombak yang relatif kecil aman bagi pengunjung untuk berenang, pasir yang bersih dan air laut yang jernih serta pemandangan pulau Nusakambangan yang terlihat begitu indah, ditambah rindangnya pohon-pohon ditepi pantai menambah kesejukan, serta perahu-perahu nelayan dan kapal-kapal besar yang hilir mudik ke pelabuhan serta panorama pantai pada saat terbit matahari. Tersedia juga perahu wisata yang bisa mengantar wisatawan ke pulau Nusakambangan yang berpasir putih.\n",
            "You: bye\n"
          ]
        }
      ],
      "source": [
        "bot_name = \"Jagabota\"\n",
        "print(\"Mau wisata kemanaa nihh?^^ (type 'bye' to exit)\")\n",
        "while True:\n",
        "    # sentence = \"do you use credit cards?\"\n",
        "    sentence = input(\"You: \")\n",
        "    if sentence == \"bye\":\n",
        "        break\n",
        "\n",
        "    sentence = tokenize(sentence)\n",
        "    X = bag_of_words(sentence, all_words)\n",
        "    X = X.reshape(1, X.shape[0])\n",
        "    X = torch.from_numpy(X).to(device)\n",
        "\n",
        "    output = model(X)\n",
        "    _, predicted = torch.max(output, dim=1)\n",
        "\n",
        "    tag = tags[predicted.item()]\n",
        "\n",
        "    probs = torch.softmax(output, dim=1)\n",
        "    prob = probs[0][predicted.item()]\n",
        "    if prob.item() > 0.75:\n",
        "        for intent in intents['intents']:\n",
        "            if tag == intent[\"tag\"]:\n",
        "                print(f\"{bot_name}: {random.choice(intent['responses'])}\")\n",
        "    else:\n",
        "        print(f\"{bot_name}: I do not understand...\")"
      ]
    },
    {
      "cell_type": "markdown",
      "metadata": {
        "id": "Cl6KlgPeTajv"
      },
      "source": [
        "##Evaluasi"
      ]
    },
    {
      "cell_type": "code",
      "execution_count": 33,
      "metadata": {
        "id": "hh3_qiOo0GVS"
      },
      "outputs": [],
      "source": []
    }
  ],
  "metadata": {
    "accelerator": "GPU",
    "colab": {
      "provenance": []
    },
    "gpuClass": "standard",
    "kernelspec": {
      "display_name": "Python 3.10.4 ('nlp')",
      "language": "python",
      "name": "python3"
    },
    "language_info": {
      "codemirror_mode": {
        "name": "ipython",
        "version": 3
      },
      "file_extension": ".py",
      "mimetype": "text/x-python",
      "name": "python",
      "nbconvert_exporter": "python",
      "pygments_lexer": "ipython3",
      "version": "3.10.4"
    },
    "vscode": {
      "interpreter": {
        "hash": "87d27b314114222f2079b6583164c221477ec068d560eba937ab7e3c5fe5c5dc"
      }
    }
  },
  "nbformat": 4,
  "nbformat_minor": 0
}
